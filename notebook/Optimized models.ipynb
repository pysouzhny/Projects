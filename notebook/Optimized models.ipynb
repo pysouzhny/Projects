{
 "cells": [
  {
   "cell_type": "code",
   "execution_count": 1,
   "metadata": {
    "collapsed": true
   },
   "outputs": [],
   "source": [
    "# fix the cross-validation process using Pipeline\n",
    "from sklearn.pipeline import make_pipeline\n",
    "from __future__ import division # ensure that all division is float division\n",
    "from sklearn.feature_extraction.text import CountVectorizer, TfidfVectorizer\n",
    "%matplotlib inline\n",
    "import matplotlib.pyplot as plt\n",
    "from sklearn.feature_extraction.text import TfidfTransformer\n",
    "from sklearn.svm import LinearSVC, NuSVC, SVC\n",
    "from sklearn import metrics\n",
    "#import all the necessary modules\n",
    "import os, sys, re\n",
    "import numpy as np\n",
    "import pandas as pd\n",
    "import seaborn as sns\n",
    "from sklearn.grid_search import GridSearchCV\n",
    "from sklearn.cross_validation import cross_val_score\n",
    "from sklearn.pipeline import Pipeline\n",
    "sns.set()\n",
    "sns.set_style(\"whitegrid\")"
   ]
  },
  {
   "cell_type": "markdown",
   "metadata": {},
   "source": [
    "# Train-test Split"
   ]
  },
  {
   "cell_type": "code",
   "execution_count": 2,
   "metadata": {
    "collapsed": true
   },
   "outputs": [],
   "source": [
    "os.chdir(r\"C:\\Users\\Dominique Njinkeu\\Documents\\GitHub\\Projects\\notebook\")\n",
    "df=pd.read_csv(\"tweets_sample.csv\")\n",
    "df.Support.value_counts()\n",
    "# map the label values for scikit-learn\n",
    "df[\"Label\"]=df.Support.map({\"Neutral\":0,\"Panthers\":1,\"Broncos\":2})\n",
    "#determine feature and label variables\n",
    "X=df.text\n",
    "y=df.Label\n",
    "from sklearn.cross_validation import train_test_split\n",
    "X_train, X_test, y_train, y_test = train_test_split(X, y, stratify=y)"
   ]
  },
  {
   "cell_type": "markdown",
   "metadata": {},
   "source": [
    "# initial text vectorization"
   ]
  },
  {
   "cell_type": "code",
   "execution_count": 3,
   "metadata": {
    "collapsed": true
   },
   "outputs": [],
   "source": [
    "vect=CountVectorizer()\n",
    "tfidf=TfidfVectorizer()"
   ]
  },
  {
   "cell_type": "code",
   "execution_count": 4,
   "metadata": {
    "collapsed": true
   },
   "outputs": [],
   "source": [
    "os.chdir(r\"C:\\Users\\Dominique Njinkeu\\Documents\\GitHub\\Projects\\codes\")"
   ]
  },
  {
   "cell_type": "code",
   "execution_count": 5,
   "metadata": {
    "collapsed": true
   },
   "outputs": [],
   "source": [
    "from test_classifiers import classifier"
   ]
  },
  {
   "cell_type": "markdown",
   "metadata": {},
   "source": [
    "# instantiate initial classifiers"
   ]
  },
  {
   "cell_type": "code",
   "execution_count": 6,
   "metadata": {
    "collapsed": true
   },
   "outputs": [],
   "source": [
    "#multinomialNB classifier\n",
    "from sklearn.naive_bayes import MultinomialNB\n",
    "clfNB=MultinomialNB()\n",
    "#knn classifier\n",
    "from sklearn.neighbors import KNeighborsClassifier\n",
    "knn = KNeighborsClassifier()\n",
    "#linear SVM\n",
    "from sklearn import svm\n",
    "linear_svc=LinearSVC()\n",
    "#Logistic Regression\n",
    "from sklearn import linear_model\n",
    "logreg = linear_model.LogisticRegression(C=1e5)"
   ]
  },
  {
   "cell_type": "code",
   "execution_count": 7,
   "metadata": {
    "collapsed": true
   },
   "outputs": [],
   "source": [
    "model_scores=[]"
   ]
  },
  {
   "cell_type": "markdown",
   "metadata": {},
   "source": [
    "# Multinomial Naive Bayes"
   ]
  },
  {
   "cell_type": "code",
   "execution_count": 8,
   "metadata": {
    "collapsed": false
   },
   "outputs": [
    {
     "name": "stdout",
     "output_type": "stream",
     "text": [
      "Features:  5858\n",
      "classification_report\n",
      "             precision    recall  f1-score   support\n",
      "\n",
      "          0       0.79      0.95      0.86       411\n",
      "          1       0.84      0.79      0.81       207\n",
      "          2       0.88      0.40      0.55       132\n",
      "\n",
      "avg / total       0.82      0.81      0.79       750\n",
      "\n",
      "accuracy_score 0.806666666667\n"
     ]
    }
   ],
   "source": [
    "init_MNB=classifier(vect,clfNB)\n",
    "model_scores.append({\"name\":\"MultinomialNB\",\"score\":init_MNB,\n",
    "                     \"vectorizer\":\"CountVectorizer\"})"
   ]
  },
  {
   "cell_type": "markdown",
   "metadata": {},
   "source": [
    "# Knn"
   ]
  },
  {
   "cell_type": "code",
   "execution_count": 9,
   "metadata": {
    "collapsed": false
   },
   "outputs": [
    {
     "name": "stdout",
     "output_type": "stream",
     "text": [
      "Features:  5858\n",
      "classification_report\n",
      "             precision    recall  f1-score   support\n",
      "\n",
      "          0       0.88      0.86      0.87       411\n",
      "          1       0.73      0.89      0.80       207\n",
      "          2       0.81      0.59      0.68       132\n",
      "\n",
      "avg / total       0.83      0.82      0.82       750\n",
      "\n",
      "accuracy_score 0.82\n"
     ]
    }
   ],
   "source": [
    "init_knn=classifier(vect,knn)\n",
    "model_scores.append({\"name\":\"knn\",\"score\":init_knn,\"vectorizer\":\"CountVectorizer\"})"
   ]
  },
  {
   "cell_type": "markdown",
   "metadata": {},
   "source": [
    "# Linear SVM"
   ]
  },
  {
   "cell_type": "code",
   "execution_count": 10,
   "metadata": {
    "collapsed": false
   },
   "outputs": [
    {
     "name": "stdout",
     "output_type": "stream",
     "text": [
      "Features:  5858\n",
      "classification_report\n",
      "             precision    recall  f1-score   support\n",
      "\n",
      "          0       0.90      0.92      0.91       411\n",
      "          1       0.83      0.88      0.86       207\n",
      "          2       0.86      0.73      0.79       132\n",
      "\n",
      "avg / total       0.88      0.88      0.88       750\n",
      "\n",
      "accuracy_score 0.877333333333\n"
     ]
    }
   ],
   "source": [
    "init_svm=classifier(vect,linear_svc)\n",
    "model_scores.append({\"name\":\"linear svm\",\"score\":init_svm,\"vectorizer\":\"CountVectorizer\"})"
   ]
  },
  {
   "cell_type": "markdown",
   "metadata": {},
   "source": [
    "# Logistic Regression"
   ]
  },
  {
   "cell_type": "code",
   "execution_count": 11,
   "metadata": {
    "collapsed": false
   },
   "outputs": [
    {
     "name": "stdout",
     "output_type": "stream",
     "text": [
      "Features:  5858\n",
      "classification_report\n",
      "             precision    recall  f1-score   support\n",
      "\n",
      "          0       0.90      0.91      0.90       411\n",
      "          1       0.82      0.86      0.84       207\n",
      "          2       0.81      0.72      0.76       132\n",
      "\n",
      "avg / total       0.86      0.86      0.86       750\n",
      "\n",
      "accuracy_score 0.862666666667\n"
     ]
    }
   ],
   "source": [
    "init_logreg=classifier(vect,logreg)\n",
    "model_scores.append({\"name\":\"log reg\",\"score\":init_logreg,\n",
    "                    \"vectorizer\":\"CountVectorizer\"})"
   ]
  },
  {
   "cell_type": "markdown",
   "metadata": {},
   "source": [
    "# Find best paramters"
   ]
  },
  {
   "cell_type": "markdown",
   "metadata": {},
   "source": [
    "# best multinomial"
   ]
  },
  {
   "cell_type": "code",
   "execution_count": 12,
   "metadata": {
    "collapsed": false
   },
   "outputs": [
    {
     "name": "stdout",
     "output_type": "stream",
     "text": [
      "best parameters\n",
      "{'alpha': 1.0}\n"
     ]
    }
   ],
   "source": [
    "mbn_params = {'alpha': [a*0.1 for a in range(0,11)]}\n",
    "mbn_clf = GridSearchCV(MultinomialNB(), mbn_params, cv=10)\n",
    "X_train_dtm=vect.fit_transform(X_train)\n",
    "mbn_clf.fit(X_train_dtm, y_train)\n",
    "print 'best parameters'\n",
    "print mbn_clf.best_params_\n",
    "best_mbn = MultinomialNB(alpha=mbn_clf.best_params_['alpha'])"
   ]
  },
  {
   "cell_type": "code",
   "execution_count": 13,
   "metadata": {
    "collapsed": false
   },
   "outputs": [
    {
     "data": {
      "text/plain": [
       "'Best score: 0.816\\nBest parameters set for tfidf:\\nTfidfVectorizer(stop_words=\\'english\\',ngram_range=(1,2),norm=\"l2\",use_idf=False,max_df=.5,max_features=373)\\n'"
      ]
     },
     "execution_count": 13,
     "metadata": {},
     "output_type": "execute_result"
    }
   ],
   "source": [
    "\"\"\"Best score for Multinomial: 0.841\n",
    "('vect', CountVectorizer(stop_words='english',ngram_range=(1,2),max_df=.75,max_features=1836))\n",
    "\"\"\"\n",
    "\n",
    "\"\"\"Best score: 0.816\n",
    "Best parameters set for tfidf:\n",
    "TfidfVectorizer(stop_words='english',ngram_range=(1,2),norm=\"l2\",use_idf=False,max_df=.5,max_features=373)\n",
    "\"\"\""
   ]
  },
  {
   "cell_type": "code",
   "execution_count": 14,
   "metadata": {
    "collapsed": false
   },
   "outputs": [
    {
     "name": "stdout",
     "output_type": "stream",
     "text": [
      "Features:  1106\n",
      "classification_report\n",
      "             precision    recall  f1-score   support\n",
      "\n",
      "          0       0.87      0.89      0.88       411\n",
      "          1       0.82      0.84      0.83       207\n",
      "          2       0.72      0.66      0.69       132\n",
      "\n",
      "avg / total       0.83      0.83      0.83       750\n",
      "\n",
      "accuracy_score 0.833333333333\n"
     ]
    }
   ],
   "source": [
    "vect=CountVectorizer(stop_words='english',ngram_range=(1,2),max_df=.75,max_features=1106)\n",
    "clfNB=MultinomialNB(alpha=1.0)\n",
    "init_MNB=classifier(vect,clfNB)\n",
    "model_scores.append({\"name\":\"best_MultinomialNB\",\"score\":init_MNB,\n",
    "                     \"vectorizer\":\"CountVectorizer\"})"
   ]
  },
  {
   "cell_type": "markdown",
   "metadata": {},
   "source": [
    "# best knn"
   ]
  },
  {
   "cell_type": "code",
   "execution_count": 15,
   "metadata": {
    "collapsed": false
   },
   "outputs": [
    {
     "data": {
      "text/plain": [
       "'Best score: 0.848\\nBest parameters set for vect:\\n        vect__max_features: 21\\n        CountVectorizer(stop_words=\\'english\\',ngram_range=(1,1),max_df=.75)\\n Best score: 0.857\\nBest parameters set for tfidf:\\n        tfidf__max_features: 30\\n    TfidfVectorizer(stop_words=\\'english\\',ngram_range=(1,2),use_idf=False,max_df=.5,norm=\"l2\")\\nBest score: 0.854\\nBest parameters set for tfidf:\\n        clf__n_neighbors: 12\\n\\n'"
      ]
     },
     "execution_count": 15,
     "metadata": {},
     "output_type": "execute_result"
    }
   ],
   "source": [
    "\"\"\"Best score: 0.848\n",
    "Best parameters set for vect:\n",
    "        vect__max_features: 21\n",
    "        CountVectorizer(stop_words='english',ngram_range=(1,1),max_df=.75)\n",
    " Best score: 0.857\n",
    "Best parameters set for tfidf:\n",
    "        tfidf__max_features: 30\n",
    "    TfidfVectorizer(stop_words='english',ngram_range=(1,2),use_idf=False,max_df=.5,norm=\"l2\")\n",
    "Best score: 0.854\n",
    "Best parameters set for tfidf:\n",
    "        clf__n_neighbors: 12\n",
    "\n",
    "\"\"\"\n"
   ]
  },
  {
   "cell_type": "code",
   "execution_count": 16,
   "metadata": {
    "collapsed": false
   },
   "outputs": [
    {
     "name": "stdout",
     "output_type": "stream",
     "text": [
      "Features:  25\n",
      "classification_report\n",
      "             precision    recall  f1-score   support\n",
      "\n",
      "          0       0.90      0.92      0.91       411\n",
      "          1       0.82      0.84      0.83       207\n",
      "          2       0.85      0.75      0.80       132\n",
      "\n",
      "avg / total       0.87      0.87      0.87       750\n",
      "\n",
      "accuracy_score 0.868\n"
     ]
    }
   ],
   "source": [
    "tfidf=TfidfVectorizer(stop_words='english',ngram_range=(1,2),use_idf=False,max_df=.5,norm=\"l2\",\n",
    "                     max_features=25)\n",
    "knn=KNeighborsClassifier(weights=\"distance\",leaf_size=10,p=1,n_neighbors=12)\n",
    "init_knn=classifier(tfidf,knn)\n",
    "model_scores.append({\"name\":\"best_knn\",\"score\":init_knn,\"vectorizer\":\"TfidfVectorizer\"})"
   ]
  },
  {
   "cell_type": "code",
   "execution_count": 17,
   "metadata": {
    "collapsed": false
   },
   "outputs": [
    {
     "data": {
      "text/plain": [
       "\"# linear svm\\nlsvm_params = {'C':[1,10,100,1000], 'loss':['l1', 'l2']}\\nlsvm_clf = GridSearchCV(LinearSVC(), lsvm_params, cv=5)\\nlsvm_clf.fit(X_train_dtm, y_train)\\nprint 'best parameters'\\nprint lsvm_clf.best_params_\\nbest_lsvm = LinearSVC(C=lsvm_clf.best_params_['C'], loss=lsvm_clf.best_params_['loss'])\""
      ]
     },
     "execution_count": 17,
     "metadata": {},
     "output_type": "execute_result"
    }
   ],
   "source": [
    "\"\"\"# linear svm\n",
    "lsvm_params = {'C':[1,10,100,1000], 'loss':['l1', 'l2']}\n",
    "lsvm_clf = GridSearchCV(LinearSVC(), lsvm_params, cv=5)\n",
    "lsvm_clf.fit(X_train_dtm, y_train)\n",
    "print 'best parameters'\n",
    "print lsvm_clf.best_params_\n",
    "best_lsvm = LinearSVC(C=lsvm_clf.best_params_['C'], loss=lsvm_clf.best_params_['loss'])\"\"\""
   ]
  },
  {
   "cell_type": "code",
   "execution_count": 18,
   "metadata": {
    "collapsed": false
   },
   "outputs": [
    {
     "data": {
      "text/plain": [
       "'\\nbest parameters\\n{\\'loss\\': \\'l2\\', \\'C\\': 1}\\n\\nBest score: 0.887\\nBest parameters set for tfidf:\\n        tfidf__max_features: 1814\\n        TfidfVectorizer(stop_words=\\'english\\',max_df=.5,ngram_range=(1,2),norm=\"l2\",use_idf=False)\\n\\n\\n'"
      ]
     },
     "execution_count": 18,
     "metadata": {},
     "output_type": "execute_result"
    }
   ],
   "source": [
    "\"\"\"\n",
    "best parameters\n",
    "{'loss': 'l2', 'C': 1}\n",
    "\n",
    "Best score: 0.887\n",
    "Best parameters set for tfidf:\n",
    "        tfidf__max_features: 1814\n",
    "        TfidfVectorizer(stop_words='english',max_df=.5,ngram_range=(1,2),norm=\"l2\",use_idf=False)\n",
    "\n",
    "\n",
    "\"\"\""
   ]
  },
  {
   "cell_type": "code",
   "execution_count": 19,
   "metadata": {
    "collapsed": false
   },
   "outputs": [
    {
     "name": "stdout",
     "output_type": "stream",
     "text": [
      "Features:  8015\n",
      "classification_report\n",
      "             precision    recall  f1-score   support\n",
      "\n",
      "          0       0.94      0.91      0.92       411\n",
      "          1       0.84      0.91      0.88       207\n",
      "          2       0.83      0.79      0.81       132\n",
      "\n",
      "avg / total       0.89      0.89      0.89       750\n",
      "\n",
      "accuracy_score 0.890666666667\n"
     ]
    },
    {
     "name": "stderr",
     "output_type": "stream",
     "text": [
      "C:\\Users\\Dominique Njinkeu\\AppData\\Local\\Enthought\\Canopy\\User\\lib\\site-packages\\sklearn\\svm\\classes.py:197: DeprecationWarning: loss='l2' has been deprecated in favor of loss='squared_hinge' as of 0.16. Backward compatibility for the loss='l2' will be removed in 1.0\n",
      "  DeprecationWarning)\n"
     ]
    }
   ],
   "source": [
    "linear_svc=LinearSVC(loss=\"l2\",C=1)\n",
    "tfidf=TfidfVectorizer(stop_words='english',ngram_range=(1,3),max_df=.5,use_idf=False,max_features=8015)\n",
    "init_svm=classifier(tfidf,linear_svc)\n",
    "model_scores.append({\"name\":\"best_linear svm\",\"score\":init_svm,\"vectorizer\":\"TfidfVectorizer\"})"
   ]
  },
  {
   "cell_type": "code",
   "execution_count": 20,
   "metadata": {
    "collapsed": false
   },
   "outputs": [
    {
     "name": "stdout",
     "output_type": "stream",
     "text": [
      "Features:  17835\n",
      "classification_report\n",
      "             precision    recall  f1-score   support\n",
      "\n",
      "          0       0.92      0.92      0.92       411\n",
      "          1       0.85      0.89      0.87       207\n",
      "          2       0.84      0.78      0.81       132\n",
      "\n",
      "avg / total       0.89      0.89      0.89       750\n",
      "\n",
      "accuracy_score 0.889333333333\n"
     ]
    }
   ],
   "source": [
    "logreg=linear_model.LogisticRegression(C=1000,penalty=\"l2\")\n",
    "vect=CountVectorizer(stop_words='english',ngram_range=(1,2),max_df=.5)\n",
    "init_logreg=classifier(vect,logreg)\n",
    "model_scores.append({\"name\":\"best_log reg\",\"score\":init_logreg,\n",
    "                    \"vectorizer\":\"CountVectorizer\"})"
   ]
  },
  {
   "cell_type": "code",
   "execution_count": 81,
   "metadata": {
    "collapsed": false
   },
   "outputs": [],
   "source": [
    "scores_tbl=[]\n",
    "scores_tbl.append([\"name\",\"Vectorizer\",\n",
    "                   \"prec_0\",\"rec_0\",\"f1_0\",\n",
    "                  \"prec_1\",\"rec_1\",\"f1_1\",\n",
    "                  \"prec_2\",\"rec_2\",\"f1_2\",\"accuracy\"])\n",
    "i=0\n",
    "for score in model_scores:\n",
    "    \n",
    "    scr=[]\n",
    "    \n",
    "    scr.append(score[\"name\"])\n",
    "    scr.append(score[\"vectorizer\"])\n",
    "    for sc in score[\"score\"]:\n",
    "        scr.append(sc)\n",
    "    scores_tbl.append(scr)\n"
   ]
  },
  {
   "cell_type": "code",
   "execution_count": 24,
   "metadata": {
    "collapsed": false
   },
   "outputs": [],
   "source": [
    "import pandas as pd\n",
    "a=pd.DataFrame(scores_tbl,index=None)"
   ]
  },
  {
   "cell_type": "code",
   "execution_count": 25,
   "metadata": {
    "collapsed": true
   },
   "outputs": [],
   "source": [
    "a.to_excel(\"presentation_table.xls\")"
   ]
  },
  {
   "cell_type": "code",
   "execution_count": 27,
   "metadata": {
    "collapsed": false,
    "scrolled": true
   },
   "outputs": [
    {
     "data": {
      "text/html": [
       "<div>\n",
       "<table border=\"1\" class=\"dataframe\">\n",
       "  <thead>\n",
       "    <tr style=\"text-align: right;\">\n",
       "      <th></th>\n",
       "      <th>rndm</th>\n",
       "      <th>id</th>\n",
       "      <th>created_at</th>\n",
       "      <th>favorite_count</th>\n",
       "      <th>favorited</th>\n",
       "      <th>retweeted</th>\n",
       "      <th>text</th>\n",
       "      <th>timestamp_ms</th>\n",
       "      <th>Support</th>\n",
       "      <th>Label</th>\n",
       "    </tr>\n",
       "  </thead>\n",
       "  <tbody>\n",
       "    <tr>\n",
       "      <th>0</th>\n",
       "      <td>67</td>\n",
       "      <td>6.960000e+17</td>\n",
       "      <td>Sun Feb 07 19:14:38 +0000 2016</td>\n",
       "      <td>0</td>\n",
       "      <td>False</td>\n",
       "      <td>False</td>\n",
       "      <td>RT @WorldStarFunny: Panthers hitting the dab f...</td>\n",
       "      <td>1.450000e+12</td>\n",
       "      <td>Panthers</td>\n",
       "      <td>1</td>\n",
       "    </tr>\n",
       "    <tr>\n",
       "      <th>1</th>\n",
       "      <td>923</td>\n",
       "      <td>6.960000e+17</td>\n",
       "      <td>Sun Feb 07 19:14:58 +0000 2016</td>\n",
       "      <td>0</td>\n",
       "      <td>False</td>\n",
       "      <td>False</td>\n",
       "      <td>RT @Pokemon: It's Game Day, Trainers! Who's re...</td>\n",
       "      <td>1.450000e+12</td>\n",
       "      <td>Neutral</td>\n",
       "      <td>0</td>\n",
       "    </tr>\n",
       "    <tr>\n",
       "      <th>2</th>\n",
       "      <td>1039</td>\n",
       "      <td>6.960000e+17</td>\n",
       "      <td>Sun Feb 07 19:15:00 +0000 2016</td>\n",
       "      <td>0</td>\n",
       "      <td>False</td>\n",
       "      <td>False</td>\n",
       "      <td>Except Star he a trill nigga!  https://t.co/Ie...</td>\n",
       "      <td>1.450000e+12</td>\n",
       "      <td>Neutral</td>\n",
       "      <td>0</td>\n",
       "    </tr>\n",
       "    <tr>\n",
       "      <th>3</th>\n",
       "      <td>1617</td>\n",
       "      <td>6.960000e+17</td>\n",
       "      <td>Sun Feb 07 19:15:13 +0000 2016</td>\n",
       "      <td>0</td>\n",
       "      <td>False</td>\n",
       "      <td>False</td>\n",
       "      <td>#SuperBowl night lets get it on. If Broncos de...</td>\n",
       "      <td>1.450000e+12</td>\n",
       "      <td>Broncos</td>\n",
       "      <td>2</td>\n",
       "    </tr>\n",
       "    <tr>\n",
       "      <th>4</th>\n",
       "      <td>1784</td>\n",
       "      <td>6.960000e+17</td>\n",
       "      <td>Sun Feb 07 19:15:17 +0000 2016</td>\n",
       "      <td>0</td>\n",
       "      <td>False</td>\n",
       "      <td>False</td>\n",
       "      <td>RT @esurance: RT during the big game for your ...</td>\n",
       "      <td>1.450000e+12</td>\n",
       "      <td>Neutral</td>\n",
       "      <td>0</td>\n",
       "    </tr>\n",
       "  </tbody>\n",
       "</table>\n",
       "</div>"
      ],
      "text/plain": [
       "   rndm            id                      created_at  favorite_count  \\\n",
       "0    67  6.960000e+17  Sun Feb 07 19:14:38 +0000 2016               0   \n",
       "1   923  6.960000e+17  Sun Feb 07 19:14:58 +0000 2016               0   \n",
       "2  1039  6.960000e+17  Sun Feb 07 19:15:00 +0000 2016               0   \n",
       "3  1617  6.960000e+17  Sun Feb 07 19:15:13 +0000 2016               0   \n",
       "4  1784  6.960000e+17  Sun Feb 07 19:15:17 +0000 2016               0   \n",
       "\n",
       "  favorited retweeted                                               text  \\\n",
       "0     False     False  RT @WorldStarFunny: Panthers hitting the dab f...   \n",
       "1     False     False  RT @Pokemon: It's Game Day, Trainers! Who's re...   \n",
       "2     False     False  Except Star he a trill nigga!  https://t.co/Ie...   \n",
       "3     False     False  #SuperBowl night lets get it on. If Broncos de...   \n",
       "4     False     False  RT @esurance: RT during the big game for your ...   \n",
       "\n",
       "   timestamp_ms   Support  Label  \n",
       "0  1.450000e+12  Panthers      1  \n",
       "1  1.450000e+12   Neutral      0  \n",
       "2  1.450000e+12   Neutral      0  \n",
       "3  1.450000e+12   Broncos      2  \n",
       "4  1.450000e+12   Neutral      0  "
      ]
     },
     "execution_count": 27,
     "metadata": {},
     "output_type": "execute_result"
    }
   ],
   "source": [
    "df.head()"
   ]
  },
  {
   "cell_type": "code",
   "execution_count": 30,
   "metadata": {
    "collapsed": false
   },
   "outputs": [
    {
     "data": {
      "text/plain": [
       "Index([u'rndm', u'id', u'created_at', u'favorite_count', u'favorited',\n",
       "       u'retweeted', u'text', u'timestamp_ms', u'Support', u'Label'],\n",
       "      dtype='object')"
      ]
     },
     "execution_count": 30,
     "metadata": {},
     "output_type": "execute_result"
    }
   ],
   "source": [
    "df.columns"
   ]
  },
  {
   "cell_type": "code",
   "execution_count": 52,
   "metadata": {
    "collapsed": false
   },
   "outputs": [],
   "source": [
    "import matplotlib.pyplot as plt\n",
    "from wordcloud import WordCloud, STOPWORDS\n",
    "import PIL"
   ]
  },
  {
   "cell_type": "code",
   "execution_count": 61,
   "metadata": {
    "collapsed": true
   },
   "outputs": [],
   "source": [
    "words = ' '.join(df['text'])\n",
    "font_path=r\"C:\\Windows\\Fonts\\Elephant.ttf\""
   ]
  },
  {
   "cell_type": "code",
   "execution_count": 62,
   "metadata": {
    "collapsed": false
   },
   "outputs": [],
   "source": [
    "words = \" \".join([word for word in words.split()\n",
    "                            if 'http' not in word\n",
    "                                and not word.startswith('@')\n",
    "                                and word != 'RT'\n",
    "                            ])"
   ]
  },
  {
   "cell_type": "code",
   "execution_count": 72,
   "metadata": {
    "collapsed": false
   },
   "outputs": [],
   "source": [
    "wordcloud = WordCloud(\n",
    "font_path=\"comicbd.ttf\",\n",
    "stopwords=STOPWORDS,\n",
    "background_color='black',\n",
    "max_words=500,\n",
    "width=1800,\n",
    "height=1400\n",
    ").generate(words)"
   ]
  },
  {
   "cell_type": "code",
   "execution_count": 73,
   "metadata": {
    "collapsed": false
   },
   "outputs": [
    {
     "data": {
      "image/png": "[encoded data removed]",
      "text/plain": [
       "<matplotlib.figure.Figure at 0xdc905c0>"
      ]
     },
     "metadata": {},
     "output_type": "display_data"
    }
   ],
   "source": [
    "plt.imshow(wordcloud)\n",
    "plt.axis('off')\n",
    "plt.savefig('./cloud2.png', dpi=300)\n",
    "plt.show()"
   ]
  },
  {
   "cell_type": "code",
   "execution_count": 80,
   "metadata": {
    "collapsed": false
   },
   "outputs": [
    {
     "data": {
      "text/plain": [
       "Support\n",
       "Broncos      529\n",
       "Neutral     1644\n",
       "Panthers     827\n",
       "Name: Label, dtype: int64"
      ]
     },
     "execution_count": 80,
     "metadata": {},
     "output_type": "execute_result"
    }
   ],
   "source": [
    "df.groupby([\"Label\"])[\"Label\"].count()"
   ]
  },
  {
   "cell_type": "code",
   "execution_count": 83,
   "metadata": {
    "collapsed": false
   },
   "outputs": [],
   "source": [
    "pipeline1 = Pipeline([\n",
    "    \n",
    "    (\"tfidf\",TfidfVectorizer(stop_words='english',ngram_range=(1,3),max_df=.5,\n",
    "                            use_idf=False,max_features=8015)),\n",
    "\n",
    "    \n",
    "    ('clf', LinearSVC(loss=\"l2\",C=1)),\n",
    "    ]\n",
    ")\n"
   ]
  },
  {
   "cell_type": "code",
   "execution_count": 84,
   "metadata": {
    "collapsed": true
   },
   "outputs": [],
   "source": [
    "pipeline2 = Pipeline([\n",
    "    ('vect', CountVectorizer(stop_words='english',ngram_range=(1,2),max_df=.5)),\n",
    "    \n",
    "    \n",
    "    ('clf', linear_model.LogisticRegression(C=1000,penalty=\"l2\")),\n",
    "    ]\n",
    ")\n"
   ]
  },
  {
   "cell_type": "code",
   "execution_count": 87,
   "metadata": {
    "collapsed": false
   },
   "outputs": [
    {
     "name": "stderr",
     "output_type": "stream",
     "text": [
      "C:\\Users\\Dominique Njinkeu\\AppData\\Local\\Enthought\\Canopy\\User\\lib\\site-packages\\sklearn\\svm\\classes.py:197: DeprecationWarning: loss='l2' has been deprecated in favor of loss='squared_hinge' as of 0.16. Backward compatibility for the loss='l2' will be removed in 1.0\n",
      "  DeprecationWarning)\n",
      "C:\\Users\\Dominique Njinkeu\\AppData\\Local\\Enthought\\Canopy\\User\\lib\\site-packages\\sklearn\\svm\\classes.py:197: DeprecationWarning: loss='l2' has been deprecated in favor of loss='squared_hinge' as of 0.16. Backward compatibility for the loss='l2' will be removed in 1.0\n",
      "  DeprecationWarning)\n",
      "C:\\Users\\Dominique Njinkeu\\AppData\\Local\\Enthought\\Canopy\\User\\lib\\site-packages\\sklearn\\svm\\classes.py:197: DeprecationWarning: loss='l2' has been deprecated in favor of loss='squared_hinge' as of 0.16. Backward compatibility for the loss='l2' will be removed in 1.0\n",
      "  DeprecationWarning)\n",
      "C:\\Users\\Dominique Njinkeu\\AppData\\Local\\Enthought\\Canopy\\User\\lib\\site-packages\\sklearn\\svm\\classes.py:197: DeprecationWarning: loss='l2' has been deprecated in favor of loss='squared_hinge' as of 0.16. Backward compatibility for the loss='l2' will be removed in 1.0\n",
      "  DeprecationWarning)\n",
      "C:\\Users\\Dominique Njinkeu\\AppData\\Local\\Enthought\\Canopy\\User\\lib\\site-packages\\sklearn\\svm\\classes.py:197: DeprecationWarning: loss='l2' has been deprecated in favor of loss='squared_hinge' as of 0.16. Backward compatibility for the loss='l2' will be removed in 1.0\n",
      "  DeprecationWarning)\n",
      "C:\\Users\\Dominique Njinkeu\\AppData\\Local\\Enthought\\Canopy\\User\\lib\\site-packages\\sklearn\\svm\\classes.py:197: DeprecationWarning: loss='l2' has been deprecated in favor of loss='squared_hinge' as of 0.16. Backward compatibility for the loss='l2' will be removed in 1.0\n",
      "  DeprecationWarning)\n",
      "C:\\Users\\Dominique Njinkeu\\AppData\\Local\\Enthought\\Canopy\\User\\lib\\site-packages\\sklearn\\svm\\classes.py:197: DeprecationWarning: loss='l2' has been deprecated in favor of loss='squared_hinge' as of 0.16. Backward compatibility for the loss='l2' will be removed in 1.0\n",
      "  DeprecationWarning)\n",
      "C:\\Users\\Dominique Njinkeu\\AppData\\Local\\Enthought\\Canopy\\User\\lib\\site-packages\\sklearn\\svm\\classes.py:197: DeprecationWarning: loss='l2' has been deprecated in favor of loss='squared_hinge' as of 0.16. Backward compatibility for the loss='l2' will be removed in 1.0\n",
      "  DeprecationWarning)\n",
      "C:\\Users\\Dominique Njinkeu\\AppData\\Local\\Enthought\\Canopy\\User\\lib\\site-packages\\sklearn\\svm\\classes.py:197: DeprecationWarning: loss='l2' has been deprecated in favor of loss='squared_hinge' as of 0.16. Backward compatibility for the loss='l2' will be removed in 1.0\n",
      "  DeprecationWarning)\n",
      "C:\\Users\\Dominique Njinkeu\\AppData\\Local\\Enthought\\Canopy\\User\\lib\\site-packages\\sklearn\\svm\\classes.py:197: DeprecationWarning: loss='l2' has been deprecated in favor of loss='squared_hinge' as of 0.16. Backward compatibility for the loss='l2' will be removed in 1.0\n",
      "  DeprecationWarning)\n"
     ]
    },
    {
     "data": {
      "text/plain": [
       "0.87797750439832123"
      ]
     },
     "execution_count": 87,
     "metadata": {},
     "output_type": "execute_result"
    }
   ],
   "source": [
    "cross_val_score(pipeline1, X, y, cv=10, scoring='accuracy').mean()"
   ]
  },
  {
   "cell_type": "code",
   "execution_count": 88,
   "metadata": {
    "collapsed": false
   },
   "outputs": [
    {
     "data": {
      "text/plain": [
       "0.87730969305077777"
      ]
     },
     "execution_count": 88,
     "metadata": {},
     "output_type": "execute_result"
    }
   ],
   "source": [
    "cross_val_score(pipeline2, X, y, cv=10, scoring='accuracy').mean()"
   ]
  },
  {
   "cell_type": "code",
   "execution_count": null,
   "metadata": {
    "collapsed": true
   },
   "outputs": [],
   "source": []
  }
 ],
 "metadata": {
  "kernelspec": {
   "display_name": "Python 2",
   "language": "python",
   "name": "python2"
  },
  "language_info": {
   "codemirror_mode": {
    "name": "ipython",
    "version": 2
   },
   "file_extension": ".py",
   "mimetype": "text/x-python",
   "name": "python",
   "nbconvert_exporter": "python",
   "pygments_lexer": "ipython2",
   "version": "2.7.10"
  }
 },
 "nbformat": 4,
 "nbformat_minor": 0
}
