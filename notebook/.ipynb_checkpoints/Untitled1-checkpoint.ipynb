{
 "cells": [
  {
   "cell_type": "code",
   "execution_count": 19,
   "metadata": {
    "collapsed": true
   },
   "outputs": [],
   "source": [
    "# fix the cross-validation process using Pipeline\n",
    "from sklearn.pipeline import make_pipeline\n",
    "from __future__ import division # ensure that all division is float division\n",
    "from sklearn.feature_extraction.text import CountVectorizer, TfidfVectorizer\n",
    "%matplotlib inline\n",
    "import matplotlib.pyplot as plt\n",
    "from sklearn.feature_extraction.text import TfidfTransformer\n",
    "from sklearn.svm import LinearSVC, NuSVC, SVC\n",
    "from sklearn import metrics\n",
    "#import all the necessary modules\n",
    "import os, sys, re\n",
    "import numpy as np\n",
    "import pandas as pd\n",
    "import seaborn as sns\n",
    "sns.set()\n",
    "sns.set_style(\"whitegrid\")"
   ]
  },
  {
   "cell_type": "code",
   "execution_count": 3,
   "metadata": {
    "collapsed": false
   },
   "outputs": [],
   "source": [
    "os.chdir(r\"C:\\Users\\Dominique Njinkeu\\Documents\\GitHub\\Projects\\notebook\")\n",
    "df=pd.read_csv(\"tweets_sample.csv\")\n",
    "df.Support.value_counts()\n",
    "# map the label values for scikit-learn\n",
    "df[\"Label\"]=df.Support.map({\"Neutral\":0,\"Panthers\":1,\"Broncos\":2})\n",
    "#determine feature and label variables\n",
    "X=df.text\n",
    "y=df.Label\n",
    "from sklearn.cross_validation import train_test_split\n",
    "X_train, X_test, y_train, y_test = train_test_split(X, y, stratify=y)"
   ]
  },
  {
   "cell_type": "code",
   "execution_count": 22,
   "metadata": {
    "collapsed": true
   },
   "outputs": [],
   "source": [
    "#multinomialNB classifier\n",
    "from sklearn.naive_bayes import MultinomialNB\n",
    "clfNB=MultinomialNB()\n",
    "#knn classifier\n",
    "from sklearn.neighbors import KNeighborsClassifier\n",
    "knn = KNeighborsClassifier()\n",
    "#linear SVM\n",
    "from sklearn import svm\n",
    "linear_svc=LinearSVC(loss=\"l1\",C=10)\n",
    "#RBF SVM\n",
    "rbf_svm=svm.SVC(kernel='rbf',C=470)\n",
    "#Logistic Regression\n",
    "from sklearn import linear_model\n",
    "logreg = linear_model.LogisticRegression(C=1e5)"
   ]
  },
  {
   "cell_type": "code",
   "execution_count": 5,
   "metadata": {
    "collapsed": true
   },
   "outputs": [],
   "source": [
    "from sklearn.cross_validation import cross_val_score\n",
    "from sklearn.pipeline import Pipeline\n",
    "from sklearn.grid_search import GridSearchCV\n",
    "from time import time\n",
    "os.chdir(r\"C:\\Users\\Dominique Njinkeu\\Documents\\GitHub\\Projects\\codes\")\n",
    "import ParseOutText"
   ]
  },
  {
   "cell_type": "code",
   "execution_count": 6,
   "metadata": {
    "collapsed": false
   },
   "outputs": [
    {
     "name": "stdout",
     "output_type": "stream",
     "text": [
      "Features:  25\n",
      "confusion matrix \n",
      "\n",
      "[[369  30  12]\n",
      " [ 22 176   9]\n",
      " [ 15  14 103]]\n"
     ]
    },
    {
     "data": {
      "text/plain": [
       "0.85095395183734701"
      ]
     },
     "execution_count": 6,
     "metadata": {},
     "output_type": "execute_result"
    }
   ],
   "source": [
    "#find knn model\n",
    "from sklearn.pipeline import make_pipeline\n",
    "\n",
    "pipe = Pipeline([\n",
    "    #('vect', CountVectorizer(stop_words='english')),\n",
    "    ('tfidf', TfidfVectorizer(stop_words=\"english\",ngram_range=(1,2),\n",
    "                              max_df=0.5,norm=\"l2\",use_idf=False,\n",
    "                             max_features=25)\n",
    "     ),\n",
    "    \n",
    "    ('clf', KNeighborsClassifier(n_neighbors=10)),\n",
    "])\n",
    "td=TfidfVectorizer(stop_words=\"english\",ngram_range=(1,2),\n",
    "                              max_df=0.5,norm=\"l2\",use_idf=False,\n",
    "                             max_features=25)\n",
    "knn=KNeighborsClassifier(n_neighbors=10)\n",
    "\n",
    "ParseOutText.confusion_ROC(td,knn)\n",
    "\n",
    "cross_val_score(pipe, X, y, cv=10, scoring='accuracy').mean()"
   ]
  },
  {
   "cell_type": "code",
   "execution_count": 26,
   "metadata": {
    "collapsed": false
   },
   "outputs": [
    {
     "name": "stdout",
     "output_type": "stream",
     "text": [
      "Features:  17559\n",
      "confusion matrix \n",
      "\n",
      "[[371  28  12]\n",
      " [ 13 181  13]\n",
      " [  6  13 113]]\n"
     ]
    },
    {
     "data": {
      "text/plain": [
       "0.86631174432885205"
      ]
     },
     "execution_count": 26,
     "metadata": {},
     "output_type": "execute_result"
    }
   ],
   "source": [
    "#find linear svc\n",
    "\n",
    "pipe = Pipeline([\n",
    "    #('vect', CountVectorizer(stop_words='english')),\n",
    "    ('tfidf', TfidfVectorizer(max_features=900,ngram_range=(1,2),\n",
    "                              stop_words='english',norm=\"l2\",use_idf=False,\n",
    "                             max_df=.5)\n",
    "     ),\n",
    "    \n",
    "    ('clf', linear_svc),\n",
    "])\n",
    "td=TfidfVectorizer(ngram_range=(1,2),\n",
    "                              stop_words='english',norm=\"l2\",use_idf=False,\n",
    "                             max_df=.5)\n",
    "     \n",
    "ParseOutText.confusion_ROC(td,linear_svc)\n",
    "\n",
    "cross_val_score(pipe, X, y, cv=10, scoring='accuracy').mean()"
   ]
  },
  {
   "cell_type": "code",
   "execution_count": 8,
   "metadata": {
    "collapsed": false
   },
   "outputs": [
    {
     "name": "stdout",
     "output_type": "stream",
     "text": [
      "Features:  190\n",
      "confusion matrix \n",
      "\n",
      "[[369  30  12]\n",
      " [ 11 186  10]\n",
      " [  9  17 106]]\n"
     ]
    },
    {
     "data": {
      "text/plain": [
       "0.85232280400928162"
      ]
     },
     "execution_count": 8,
     "metadata": {},
     "output_type": "execute_result"
    }
   ],
   "source": [
    "#find log reg\n",
    "pipe = Pipeline([\n",
    "    #('vect', CountVectorizer(stop_words='english')),\n",
    "    ('tfidf', TfidfVectorizer(max_features=190,ngram_range=(1,2),\n",
    "                              stop_words='english',norm=\"l2\",use_idf=False,\n",
    "                             max_df=.5)\n",
    "     ),\n",
    "    \n",
    "    ('clf', logreg),\n",
    "])\n",
    "td=TfidfVectorizer(max_features=190,ngram_range=(1,2),\n",
    "                              stop_words='english',norm=\"l2\",use_idf=False,\n",
    "                             max_df=.5)\n",
    "     \n",
    "ParseOutText.confusion_ROC(td,linear_svc)\n",
    "\n",
    "cross_val_score(pipe, X, y, cv=10, scoring='accuracy').mean()"
   ]
  },
  {
   "cell_type": "code",
   "execution_count": 9,
   "metadata": {
    "collapsed": false
   },
   "outputs": [
    {
     "name": "stdout",
     "output_type": "stream",
     "text": [
      "Features:  190\n",
      "confusion matrix \n",
      "\n",
      "[[375  24  12]\n",
      " [ 21 172  14]\n",
      " [ 15  14 103]]\n"
     ]
    },
    {
     "data": {
      "text/plain": [
       "0.84433606326672328"
      ]
     },
     "execution_count": 9,
     "metadata": {},
     "output_type": "execute_result"
    }
   ],
   "source": [
    "#find log reg\n",
    "pipe = Pipeline([\n",
    "    #('vect', CountVectorizer(stop_words='english')),\n",
    "    ('tfidf', TfidfVectorizer(ngram_range=(1,3),stop_words=\"english\",max_features=190,\n",
    "                             )\n",
    "     ),\n",
    "    \n",
    "    ('clf', logreg),\n",
    "])\n",
    "td=TfidfVectorizer(ngram_range=(1,3),stop_words=\"english\",max_features=190)\n",
    "     \n",
    "     \n",
    "ParseOutText.confusion_ROC(td,logreg)\n",
    "\n",
    "cross_val_score(pipe, X, y, cv=10, scoring='accuracy').mean()"
   ]
  },
  {
   "cell_type": "code",
   "execution_count": 10,
   "metadata": {
    "collapsed": false
   },
   "outputs": [
    {
     "name": "stdout",
     "output_type": "stream",
     "text": [
      "Features:  190\n"
     ]
    }
   ],
   "source": [
    "clf=svm.SVC(kernel='linear')\n",
    "X_train_dtm=td.fit_transform(X_train)\n",
    "print \"Features: \",X_train_dtm.shape[1]\n",
    "clf.fit(X_train_dtm,y_train)\n",
    "X_test_dtm=td.transform(X_test)\n",
    "y_pred_class=clf.predict(X_test_dtm)"
   ]
  },
  {
   "cell_type": "code",
   "execution_count": 11,
   "metadata": {
    "collapsed": false
   },
   "outputs": [
    {
     "name": "stdout",
     "output_type": "stream",
     "text": [
      "             precision    recall  f1-score   support\n",
      "\n",
      "          0       0.92      0.90      0.91       411\n",
      "          1       0.81      0.91      0.85       207\n",
      "          2       0.84      0.74      0.79       132\n",
      "\n",
      "avg / total       0.88      0.87      0.87       750\n",
      "\n"
     ]
    }
   ],
   "source": [
    "from sklearn.metrics import confusion_matrix, f1_score, accuracy_score, precision_score, recall_score, classification_report\n",
    "from pprint import pprint\n",
    "print(classification_report(y_test,y_pred_class))"
   ]
  },
  {
   "cell_type": "code",
   "execution_count": 32,
   "metadata": {
    "collapsed": false
   },
   "outputs": [
    {
     "name": "stdout",
     "output_type": "stream",
     "text": [
      "best parameters\n",
      "{'alpha': 0.0}\n"
     ]
    }
   ],
   "source": [
    "mbn_params = {'alpha': [a*0.1 for a in range(0,11)]}\n",
    "mbn_clf = GridSearchCV(MultinomialNB(), mbn_params, cv=10)\n",
    "mbn_clf.fit(X_train_dtm, y_train)\n",
    "print 'best parameters'\n",
    "print mbn_clf.best_params_"
   ]
  },
  {
   "cell_type": "code",
   "execution_count": 31,
   "metadata": {
    "collapsed": false
   },
   "outputs": [
    {
     "data": {
      "text/plain": [
       "\"Best score: 0.856\\nBest parameters set for tfidf:\\n        clf__algorithm: 'ball_tree'\\n        clf__leaf_size: 15\\n        clf__p: 2\\n        clf__weights: 'distance'\\n[Parallel(n_jobs=-1)]: Done  34 tasks      | elapsed:   24.7s\\n[Parallel(n_jobs=-1)]: Done 160 out of 160 | elapsed:  1.7min finished\\n\""
      ]
     },
     "execution_count": 31,
     "metadata": {},
     "output_type": "execute_result"
    }
   ],
   "source": [
    "\"\"\"Best score: 0.856\n",
    "Best parameters set for tfidf:\n",
    "        clf__algorithm: 'ball_tree'\n",
    "        clf__leaf_size: 15\n",
    "        clf__p: 2\n",
    "        clf__weights: 'distance'\n",
    "[Parallel(n_jobs=-1)]: Done  34 tasks      | elapsed:   24.7s\n",
    "[Parallel(n_jobs=-1)]: Done 160 out of 160 | elapsed:  1.7min finished\n",
    "\"\"\""
   ]
  },
  {
   "cell_type": "code",
   "execution_count": 21,
   "metadata": {
    "collapsed": false
   },
   "outputs": [
    {
     "name": "stderr",
     "output_type": "stream",
     "text": [
      "C:\\Users\\Dominique Njinkeu\\AppData\\Local\\Enthought\\Canopy\\User\\lib\\site-packages\\sklearn\\svm\\classes.py:197: DeprecationWarning: loss='l1' has been deprecated in favor of loss='hinge' as of 0.16. Backward compatibility for the loss='l1' will be removed in 1.0\n",
      "  DeprecationWarning)\n",
      "C:\\Users\\Dominique Njinkeu\\AppData\\Local\\Enthought\\Canopy\\User\\lib\\site-packages\\sklearn\\svm\\classes.py:197: DeprecationWarning: loss='l1' has been deprecated in favor of loss='hinge' as of 0.16. Backward compatibility for the loss='l1' will be removed in 1.0\n",
      "  DeprecationWarning)\n",
      "C:\\Users\\Dominique Njinkeu\\AppData\\Local\\Enthought\\Canopy\\User\\lib\\site-packages\\sklearn\\svm\\classes.py:197: DeprecationWarning: loss='l1' has been deprecated in favor of loss='hinge' as of 0.16. Backward compatibility for the loss='l1' will be removed in 1.0\n",
      "  DeprecationWarning)\n",
      "C:\\Users\\Dominique Njinkeu\\AppData\\Local\\Enthought\\Canopy\\User\\lib\\site-packages\\sklearn\\svm\\classes.py:197: DeprecationWarning: loss='l1' has been deprecated in favor of loss='hinge' as of 0.16. Backward compatibility for the loss='l1' will be removed in 1.0\n",
      "  DeprecationWarning)\n",
      "C:\\Users\\Dominique Njinkeu\\AppData\\Local\\Enthought\\Canopy\\User\\lib\\site-packages\\sklearn\\svm\\classes.py:197: DeprecationWarning: loss='l1' has been deprecated in favor of loss='hinge' as of 0.16. Backward compatibility for the loss='l1' will be removed in 1.0\n",
      "  DeprecationWarning)\n",
      "C:\\Users\\Dominique Njinkeu\\AppData\\Local\\Enthought\\Canopy\\User\\lib\\site-packages\\sklearn\\svm\\classes.py:197: DeprecationWarning: loss='l2' has been deprecated in favor of loss='squared_hinge' as of 0.16. Backward compatibility for the loss='l2' will be removed in 1.0\n",
      "  DeprecationWarning)\n",
      "C:\\Users\\Dominique Njinkeu\\AppData\\Local\\Enthought\\Canopy\\User\\lib\\site-packages\\sklearn\\svm\\classes.py:197: DeprecationWarning: loss='l2' has been deprecated in favor of loss='squared_hinge' as of 0.16. Backward compatibility for the loss='l2' will be removed in 1.0\n",
      "  DeprecationWarning)\n",
      "C:\\Users\\Dominique Njinkeu\\AppData\\Local\\Enthought\\Canopy\\User\\lib\\site-packages\\sklearn\\svm\\classes.py:197: DeprecationWarning: loss='l2' has been deprecated in favor of loss='squared_hinge' as of 0.16. Backward compatibility for the loss='l2' will be removed in 1.0\n",
      "  DeprecationWarning)\n",
      "C:\\Users\\Dominique Njinkeu\\AppData\\Local\\Enthought\\Canopy\\User\\lib\\site-packages\\sklearn\\svm\\classes.py:197: DeprecationWarning: loss='l2' has been deprecated in favor of loss='squared_hinge' as of 0.16. Backward compatibility for the loss='l2' will be removed in 1.0\n",
      "  DeprecationWarning)\n",
      "C:\\Users\\Dominique Njinkeu\\AppData\\Local\\Enthought\\Canopy\\User\\lib\\site-packages\\sklearn\\svm\\classes.py:197: DeprecationWarning: loss='l2' has been deprecated in favor of loss='squared_hinge' as of 0.16. Backward compatibility for the loss='l2' will be removed in 1.0\n",
      "  DeprecationWarning)\n",
      "C:\\Users\\Dominique Njinkeu\\AppData\\Local\\Enthought\\Canopy\\User\\lib\\site-packages\\sklearn\\svm\\classes.py:197: DeprecationWarning: loss='l1' has been deprecated in favor of loss='hinge' as of 0.16. Backward compatibility for the loss='l1' will be removed in 1.0\n",
      "  DeprecationWarning)\n",
      "C:\\Users\\Dominique Njinkeu\\AppData\\Local\\Enthought\\Canopy\\User\\lib\\site-packages\\sklearn\\svm\\classes.py:197: DeprecationWarning: loss='l1' has been deprecated in favor of loss='hinge' as of 0.16. Backward compatibility for the loss='l1' will be removed in 1.0\n",
      "  DeprecationWarning)\n",
      "C:\\Users\\Dominique Njinkeu\\AppData\\Local\\Enthought\\Canopy\\User\\lib\\site-packages\\sklearn\\svm\\classes.py:197: DeprecationWarning: loss='l1' has been deprecated in favor of loss='hinge' as of 0.16. Backward compatibility for the loss='l1' will be removed in 1.0\n",
      "  DeprecationWarning)\n",
      "C:\\Users\\Dominique Njinkeu\\AppData\\Local\\Enthought\\Canopy\\User\\lib\\site-packages\\sklearn\\svm\\classes.py:197: DeprecationWarning: loss='l1' has been deprecated in favor of loss='hinge' as of 0.16. Backward compatibility for the loss='l1' will be removed in 1.0\n",
      "  DeprecationWarning)\n",
      "C:\\Users\\Dominique Njinkeu\\AppData\\Local\\Enthought\\Canopy\\User\\lib\\site-packages\\sklearn\\svm\\classes.py:197: DeprecationWarning: loss='l1' has been deprecated in favor of loss='hinge' as of 0.16. Backward compatibility for the loss='l1' will be removed in 1.0\n",
      "  DeprecationWarning)\n",
      "C:\\Users\\Dominique Njinkeu\\AppData\\Local\\Enthought\\Canopy\\User\\lib\\site-packages\\sklearn\\svm\\classes.py:197: DeprecationWarning: loss='l2' has been deprecated in favor of loss='squared_hinge' as of 0.16. Backward compatibility for the loss='l2' will be removed in 1.0\n",
      "  DeprecationWarning)\n",
      "C:\\Users\\Dominique Njinkeu\\AppData\\Local\\Enthought\\Canopy\\User\\lib\\site-packages\\sklearn\\svm\\classes.py:197: DeprecationWarning: loss='l2' has been deprecated in favor of loss='squared_hinge' as of 0.16. Backward compatibility for the loss='l2' will be removed in 1.0\n",
      "  DeprecationWarning)\n",
      "C:\\Users\\Dominique Njinkeu\\AppData\\Local\\Enthought\\Canopy\\User\\lib\\site-packages\\sklearn\\svm\\classes.py:197: DeprecationWarning: loss='l2' has been deprecated in favor of loss='squared_hinge' as of 0.16. Backward compatibility for the loss='l2' will be removed in 1.0\n",
      "  DeprecationWarning)\n",
      "C:\\Users\\Dominique Njinkeu\\AppData\\Local\\Enthought\\Canopy\\User\\lib\\site-packages\\sklearn\\svm\\classes.py:197: DeprecationWarning: loss='l2' has been deprecated in favor of loss='squared_hinge' as of 0.16. Backward compatibility for the loss='l2' will be removed in 1.0\n",
      "  DeprecationWarning)\n",
      "C:\\Users\\Dominique Njinkeu\\AppData\\Local\\Enthought\\Canopy\\User\\lib\\site-packages\\sklearn\\svm\\classes.py:197: DeprecationWarning: loss='l2' has been deprecated in favor of loss='squared_hinge' as of 0.16. Backward compatibility for the loss='l2' will be removed in 1.0\n",
      "  DeprecationWarning)\n",
      "C:\\Users\\Dominique Njinkeu\\AppData\\Local\\Enthought\\Canopy\\User\\lib\\site-packages\\sklearn\\svm\\classes.py:197: DeprecationWarning: loss='l1' has been deprecated in favor of loss='hinge' as of 0.16. Backward compatibility for the loss='l1' will be removed in 1.0\n",
      "  DeprecationWarning)\n",
      "C:\\Users\\Dominique Njinkeu\\AppData\\Local\\Enthought\\Canopy\\User\\lib\\site-packages\\sklearn\\svm\\classes.py:197: DeprecationWarning: loss='l1' has been deprecated in favor of loss='hinge' as of 0.16. Backward compatibility for the loss='l1' will be removed in 1.0\n",
      "  DeprecationWarning)\n",
      "C:\\Users\\Dominique Njinkeu\\AppData\\Local\\Enthought\\Canopy\\User\\lib\\site-packages\\sklearn\\svm\\classes.py:197: DeprecationWarning: loss='l1' has been deprecated in favor of loss='hinge' as of 0.16. Backward compatibility for the loss='l1' will be removed in 1.0\n",
      "  DeprecationWarning)\n",
      "C:\\Users\\Dominique Njinkeu\\AppData\\Local\\Enthought\\Canopy\\User\\lib\\site-packages\\sklearn\\svm\\classes.py:197: DeprecationWarning: loss='l1' has been deprecated in favor of loss='hinge' as of 0.16. Backward compatibility for the loss='l1' will be removed in 1.0\n",
      "  DeprecationWarning)\n",
      "C:\\Users\\Dominique Njinkeu\\AppData\\Local\\Enthought\\Canopy\\User\\lib\\site-packages\\sklearn\\svm\\classes.py:197: DeprecationWarning: loss='l1' has been deprecated in favor of loss='hinge' as of 0.16. Backward compatibility for the loss='l1' will be removed in 1.0\n",
      "  DeprecationWarning)\n",
      "C:\\Users\\Dominique Njinkeu\\AppData\\Local\\Enthought\\Canopy\\User\\lib\\site-packages\\sklearn\\svm\\classes.py:197: DeprecationWarning: loss='l2' has been deprecated in favor of loss='squared_hinge' as of 0.16. Backward compatibility for the loss='l2' will be removed in 1.0\n",
      "  DeprecationWarning)\n",
      "C:\\Users\\Dominique Njinkeu\\AppData\\Local\\Enthought\\Canopy\\User\\lib\\site-packages\\sklearn\\svm\\classes.py:197: DeprecationWarning: loss='l2' has been deprecated in favor of loss='squared_hinge' as of 0.16. Backward compatibility for the loss='l2' will be removed in 1.0\n",
      "  DeprecationWarning)\n",
      "C:\\Users\\Dominique Njinkeu\\AppData\\Local\\Enthought\\Canopy\\User\\lib\\site-packages\\sklearn\\svm\\classes.py:197: DeprecationWarning: loss='l2' has been deprecated in favor of loss='squared_hinge' as of 0.16. Backward compatibility for the loss='l2' will be removed in 1.0\n",
      "  DeprecationWarning)\n",
      "C:\\Users\\Dominique Njinkeu\\AppData\\Local\\Enthought\\Canopy\\User\\lib\\site-packages\\sklearn\\svm\\classes.py:197: DeprecationWarning: loss='l2' has been deprecated in favor of loss='squared_hinge' as of 0.16. Backward compatibility for the loss='l2' will be removed in 1.0\n",
      "  DeprecationWarning)\n",
      "C:\\Users\\Dominique Njinkeu\\AppData\\Local\\Enthought\\Canopy\\User\\lib\\site-packages\\sklearn\\svm\\classes.py:197: DeprecationWarning: loss='l2' has been deprecated in favor of loss='squared_hinge' as of 0.16. Backward compatibility for the loss='l2' will be removed in 1.0\n",
      "  DeprecationWarning)\n",
      "C:\\Users\\Dominique Njinkeu\\AppData\\Local\\Enthought\\Canopy\\User\\lib\\site-packages\\sklearn\\svm\\classes.py:197: DeprecationWarning: loss='l1' has been deprecated in favor of loss='hinge' as of 0.16. Backward compatibility for the loss='l1' will be removed in 1.0\n",
      "  DeprecationWarning)\n",
      "C:\\Users\\Dominique Njinkeu\\AppData\\Local\\Enthought\\Canopy\\User\\lib\\site-packages\\sklearn\\svm\\classes.py:197: DeprecationWarning: loss='l1' has been deprecated in favor of loss='hinge' as of 0.16. Backward compatibility for the loss='l1' will be removed in 1.0\n",
      "  DeprecationWarning)\n",
      "C:\\Users\\Dominique Njinkeu\\AppData\\Local\\Enthought\\Canopy\\User\\lib\\site-packages\\sklearn\\svm\\classes.py:197: DeprecationWarning: loss='l1' has been deprecated in favor of loss='hinge' as of 0.16. Backward compatibility for the loss='l1' will be removed in 1.0\n",
      "  DeprecationWarning)\n",
      "C:\\Users\\Dominique Njinkeu\\AppData\\Local\\Enthought\\Canopy\\User\\lib\\site-packages\\sklearn\\svm\\classes.py:197: DeprecationWarning: loss='l1' has been deprecated in favor of loss='hinge' as of 0.16. Backward compatibility for the loss='l1' will be removed in 1.0\n",
      "  DeprecationWarning)\n",
      "C:\\Users\\Dominique Njinkeu\\AppData\\Local\\Enthought\\Canopy\\User\\lib\\site-packages\\sklearn\\svm\\classes.py:197: DeprecationWarning: loss='l1' has been deprecated in favor of loss='hinge' as of 0.16. Backward compatibility for the loss='l1' will be removed in 1.0\n",
      "  DeprecationWarning)\n",
      "C:\\Users\\Dominique Njinkeu\\AppData\\Local\\Enthought\\Canopy\\User\\lib\\site-packages\\sklearn\\svm\\classes.py:197: DeprecationWarning: loss='l2' has been deprecated in favor of loss='squared_hinge' as of 0.16. Backward compatibility for the loss='l2' will be removed in 1.0\n",
      "  DeprecationWarning)\n",
      "C:\\Users\\Dominique Njinkeu\\AppData\\Local\\Enthought\\Canopy\\User\\lib\\site-packages\\sklearn\\svm\\classes.py:197: DeprecationWarning: loss='l2' has been deprecated in favor of loss='squared_hinge' as of 0.16. Backward compatibility for the loss='l2' will be removed in 1.0\n",
      "  DeprecationWarning)\n",
      "C:\\Users\\Dominique Njinkeu\\AppData\\Local\\Enthought\\Canopy\\User\\lib\\site-packages\\sklearn\\svm\\classes.py:197: DeprecationWarning: loss='l2' has been deprecated in favor of loss='squared_hinge' as of 0.16. Backward compatibility for the loss='l2' will be removed in 1.0\n",
      "  DeprecationWarning)\n",
      "C:\\Users\\Dominique Njinkeu\\AppData\\Local\\Enthought\\Canopy\\User\\lib\\site-packages\\sklearn\\svm\\classes.py:197: DeprecationWarning: loss='l2' has been deprecated in favor of loss='squared_hinge' as of 0.16. Backward compatibility for the loss='l2' will be removed in 1.0\n",
      "  DeprecationWarning)\n",
      "C:\\Users\\Dominique Njinkeu\\AppData\\Local\\Enthought\\Canopy\\User\\lib\\site-packages\\sklearn\\svm\\classes.py:197: DeprecationWarning: loss='l2' has been deprecated in favor of loss='squared_hinge' as of 0.16. Backward compatibility for the loss='l2' will be removed in 1.0\n",
      "  DeprecationWarning)\n",
      "C:\\Users\\Dominique Njinkeu\\AppData\\Local\\Enthought\\Canopy\\User\\lib\\site-packages\\sklearn\\svm\\classes.py:197: DeprecationWarning: loss='l1' has been deprecated in favor of loss='hinge' as of 0.16. Backward compatibility for the loss='l1' will be removed in 1.0\n",
      "  DeprecationWarning)\n"
     ]
    },
    {
     "name": "stdout",
     "output_type": "stream",
     "text": [
      "best parameters\n",
      "{'loss': 'l1', 'C': 10}\n"
     ]
    }
   ],
   "source": [
    "lsvm_params = {'C':[1,10,100,1000], 'loss':['l1', 'l2']}\n",
    "lsvm_clf = GridSearchCV(LinearSVC(), lsvm_params, cv=5)\n",
    "lsvm_clf.fit(X_train_dtm, y_train)\n",
    "print 'best parameters'\n",
    "print lsvm_clf.best_params_"
   ]
  },
  {
   "cell_type": "code",
   "execution_count": 30,
   "metadata": {
    "collapsed": false
   },
   "outputs": [
    {
     "name": "stdout",
     "output_type": "stream",
     "text": [
      "best parameters\n",
      "{'penalty': 'l1', 'C': 10}\n"
     ]
    }
   ],
   "source": [
    "log_params={\"C\":[0.001, 0.01, 0.1, 1, 10, 100, 1000,10000],\"penalty\":[\"l1\",\"l2\"]}\n",
    "log_clf = GridSearchCV(linear_model.LogisticRegression(), log_params, cv=5)\n",
    "log_clf.fit(X_train_dtm, y_train)\n",
    "print 'best parameters'\n",
    "print log_clf.best_params_"
   ]
  },
  {
   "cell_type": "code",
   "execution_count": 34,
   "metadata": {
    "collapsed": false
   },
   "outputs": [
    {
     "name": "stdout",
     "output_type": "stream",
     "text": [
      "Features:  25\n",
      "confusion matrix \n",
      "\n",
      "[[372  27  12]\n",
      " [ 24 174   9]\n",
      " [ 15  12 105]]\n"
     ]
    },
    {
     "data": {
      "text/plain": [
       "0.85229175929446688"
      ]
     },
     "execution_count": 34,
     "metadata": {},
     "output_type": "execute_result"
    }
   ],
   "source": [
    "#find knn model\n",
    "from sklearn.pipeline import make_pipeline\n",
    "\n",
    "pipe = Pipeline([\n",
    "    \n",
    "    ('tfidf', TfidfVectorizer(stop_words=\"english\",ngram_range=(1,2),\n",
    "                              max_df=0.5,norm=\"l2\",use_idf=False,\n",
    "                             max_features=25)\n",
    "     ),\n",
    "    \n",
    "    ('clf', KNeighborsClassifier(n_neighbors=10,algorithm=\"ball_tree\",\n",
    "                                leaf_size=15,p=2,weights=\"distance\")),\n",
    "])\n",
    "td=TfidfVectorizer(stop_words=\"english\",ngram_range=(1,2),\n",
    "                              max_df=0.5,norm=\"l2\",use_idf=False,\n",
    "                             max_features=25)\n",
    "knn=KNeighborsClassifier(n_neighbors=10,algorithm=\"ball_tree\",\n",
    "                                leaf_size=15,p=2,weights=\"distance\")\n",
    "\n",
    "ParseOutText.confusion_ROC(td,knn)\n",
    "\n",
    "cross_val_score(pipe, X, y, cv=10, scoring='accuracy').mean()"
   ]
  },
  {
   "cell_type": "code",
   "execution_count": null,
   "metadata": {
    "collapsed": true
   },
   "outputs": [],
   "source": []
  }
 ],
 "metadata": {
  "kernelspec": {
   "display_name": "Python 2",
   "language": "python",
   "name": "python2"
  },
  "language_info": {
   "codemirror_mode": {
    "name": "ipython",
    "version": 2
   },
   "file_extension": ".py",
   "mimetype": "text/x-python",
   "name": "python",
   "nbconvert_exporter": "python",
   "pygments_lexer": "ipython2",
   "version": "2.7.10"
  }
 },
 "nbformat": 4,
 "nbformat_minor": 0
}
