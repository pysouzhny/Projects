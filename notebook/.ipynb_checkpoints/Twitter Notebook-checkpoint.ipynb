{
 "cells": [
  {
   "cell_type": "code",
   "execution_count": 75,
   "metadata": {
    "collapsed": false
   },
   "outputs": [],
   "source": [
    "from __future__ import division # ensure that all division is float division\n",
    "#from __future__ import print_function # print function works properly when used with paranthesis\n",
    "from sklearn.feature_extraction.text import CountVectorizer, TfidfVectorizer\n",
    "%matplotlib inline\n",
    "import matplotlib.pyplot as plt\n",
    "from sklearn.feature_extraction.text import TfidfTransformer\n",
    "#import all the necessary modules\n",
    "import os, sys, re\n",
    "import numpy as np\n",
    "import pandas as pd\n",
    "import seaborn as sns\n",
    "\n",
    "pd.set_option(\"display.max_colwidth\", 255)"
   ]
  },
  {
   "cell_type": "code",
   "execution_count": 3,
   "metadata": {
    "collapsed": false
   },
   "outputs": [
    {
     "data": {
      "text/plain": [
       "Neutral     1644\n",
       "Panthers     827\n",
       "Broncos      529\n",
       "Name: Support, dtype: int64"
      ]
     },
     "execution_count": 3,
     "metadata": {},
     "output_type": "execute_result"
    }
   ],
   "source": [
    "os.chdir(r\"C:\\Users\\Dominique Njinkeu\\Documents\\GitHub\\Projects\\notebook\")\n",
    "df=pd.read_csv(\"tweets_sample.csv\")\n",
    "df.Support.value_counts()"
   ]
  },
  {
   "cell_type": "code",
   "execution_count": 4,
   "metadata": {
    "collapsed": false
   },
   "outputs": [
    {
     "data": {
      "text/plain": [
       "(3000, 9)"
      ]
     },
     "execution_count": 4,
     "metadata": {},
     "output_type": "execute_result"
    }
   ],
   "source": [
    "#veriify the size of our sample\n",
    "df.shape"
   ]
  },
  {
   "cell_type": "code",
   "execution_count": 5,
   "metadata": {
    "collapsed": false
   },
   "outputs": [],
   "source": [
    "# map the label values for scikit-learn\n",
    "df[\"Label\"]=df.Support.map({\"Neutral\":0,\"Panthers\":1,\"Broncos\":2})"
   ]
  },
  {
   "cell_type": "code",
   "execution_count": 6,
   "metadata": {
    "collapsed": false
   },
   "outputs": [],
   "source": [
    "#determine feature and label variables\n",
    "X=df.text\n",
    "y=df.Label"
   ]
  },
  {
   "cell_type": "code",
   "execution_count": 7,
   "metadata": {
    "collapsed": false
   },
   "outputs": [],
   "source": [
    "os.chdir(r\"C:\\Users\\Dominique Njinkeu\\Documents\\GitHub\\Projects\\codes\")\n"
   ]
  },
  {
   "cell_type": "code",
   "execution_count": 8,
   "metadata": {
    "collapsed": false
   },
   "outputs": [],
   "source": [
    "import ParseOutText\n"
   ]
  },
  {
   "cell_type": "code",
   "execution_count": 9,
   "metadata": {
    "collapsed": false
   },
   "outputs": [],
   "source": [
    "#perform train/test split with startify option to keep the proportion of teams the same for test and train variable\n",
    "from sklearn.cross_validation import train_test_split\n",
    "X_train, X_test, y_train, y_test = train_test_split(X, y, random_state=2,stratify=y)"
   ]
  },
  {
   "cell_type": "code",
   "execution_count": 10,
   "metadata": {
    "collapsed": false
   },
   "outputs": [
    {
     "data": {
      "text/plain": [
       "<2250x5827 sparse matrix of type '<type 'numpy.int64'>'\n",
       "\twith 29662 stored elements in Compressed Sparse Row format>"
      ]
     },
     "execution_count": 10,
     "metadata": {},
     "output_type": "execute_result"
    }
   ],
   "source": [
    "#instantiate/fit train data /transform to learn vocab of data\n",
    "from sklearn.feature_extraction.text import CountVectorizer\n",
    "vect=CountVectorizer()\n",
    "X_train_dtm=vect.fit_transform(X_train)\n",
    "X_train_dtm"
   ]
  },
  {
   "cell_type": "code",
   "execution_count": 11,
   "metadata": {
    "collapsed": false
   },
   "outputs": [
    {
     "data": {
      "text/plain": [
       "<750x5827 sparse matrix of type '<type 'numpy.int64'>'\n",
       "\twith 8576 stored elements in Compressed Sparse Row format>"
      ]
     },
     "execution_count": 11,
     "metadata": {},
     "output_type": "execute_result"
    }
   ],
   "source": [
    "#transform to learn vocab of test data WARNING DO NOT FIT!\n",
    "X_test_dtm=vect.transform(X_test)\n",
    "X_test_dtm"
   ]
  },
  {
   "cell_type": "markdown",
   "metadata": {},
   "source": [
    "# Evaluation before PreProcessing"
   ]
  },
  {
   "cell_type": "code",
   "execution_count": 12,
   "metadata": {
    "collapsed": false
   },
   "outputs": [
    {
     "name": "stdout",
     "output_type": "stream",
     "text": [
      "Features:  5827\n",
      "Accuracy:  0.801333333333\n"
     ]
    }
   ],
   "source": [
    "#multinomialNB classifier\n",
    "from sklearn.naive_bayes import MultinomialNB\n",
    "clfNB=MultinomialNB()\n",
    "\n",
    "ParseOutText.test_classifier(vect,clfNB)"
   ]
  },
  {
   "cell_type": "code",
   "execution_count": 13,
   "metadata": {
    "collapsed": false
   },
   "outputs": [],
   "source": [
    "from sklearn import svm\n",
    "linear_svc=svm.SVC(kernel='linear')"
   ]
  },
  {
   "cell_type": "code",
   "execution_count": 14,
   "metadata": {
    "collapsed": false
   },
   "outputs": [
    {
     "name": "stdout",
     "output_type": "stream",
     "text": [
      "Features:  5827\n",
      "Accuracy:  0.881333333333\n"
     ]
    }
   ],
   "source": [
    "ParseOutText.test_classifier(vect,linear_svc)"
   ]
  },
  {
   "cell_type": "code",
   "execution_count": 15,
   "metadata": {
    "collapsed": false
   },
   "outputs": [
    {
     "name": "stdout",
     "output_type": "stream",
     "text": [
      "Features:  5827\n",
      "Accuracy:  0.872\n"
     ]
    }
   ],
   "source": [
    "from sklearn import linear_model\n",
    "logreg = linear_model.LogisticRegression(C=1e5)\n",
    "ParseOutText.test_classifier(vect,logreg)"
   ]
  },
  {
   "cell_type": "code",
   "execution_count": 16,
   "metadata": {
    "collapsed": false
   },
   "outputs": [
    {
     "name": "stdout",
     "output_type": "stream",
     "text": [
      "Features:  5827\n",
      "Accuracy:  0.801333333333\n"
     ]
    }
   ],
   "source": [
    "from sklearn.neighbors import KNeighborsClassifier\n",
    "knn = KNeighborsClassifier(n_neighbors=1)\n",
    "ParseOutText.test_classifier(vect,knn)"
   ]
  },
  {
   "cell_type": "code",
   "execution_count": 17,
   "metadata": {
    "collapsed": false
   },
   "outputs": [
    {
     "name": "stdout",
     "output_type": "stream",
     "text": [
      "Features:  5827\n",
      "Accuracy:  0.886666666667\n"
     ]
    }
   ],
   "source": [
    "rbf_svm=svm.SVC(kernel='rbf',C=470)\n",
    "ParseOutText.test_classifier(vect,rbf_svm)"
   ]
  },
  {
   "cell_type": "markdown",
   "metadata": {},
   "source": [
    "# change  the number of features"
   ]
  },
  {
   "cell_type": "code",
   "execution_count": 18,
   "metadata": {
    "collapsed": false
   },
   "outputs": [
    {
     "name": "stdout",
     "output_type": "stream",
     "text": [
      "***Naive Bayes***\n",
      "Features:  1000\n",
      "Accuracy:  0.837333333333\n",
      "***Linear SVM***\n",
      "Features:  1000\n",
      "Accuracy:  0.861333333333\n",
      "***Logistic Regression***\n",
      "Features:  1000\n",
      "Accuracy:  0.785333333333\n",
      "KNN\n",
      "Features:  1000\n",
      "Accuracy:  0.828\n",
      "***SVM with RBF kernel***\n",
      "Features:  1000\n",
      "Accuracy:  0.861333333333\n"
     ]
    }
   ],
   "source": [
    "vect=CountVectorizer(max_features=1000,ngram_range=(1,2))\n",
    "print \"***Naive Bayes***\"\n",
    "ParseOutText.test_classifier(vect,clfNB)\n",
    "print \"***Linear SVM***\"\n",
    "ParseOutText.test_classifier(vect,linear_svc)\n",
    "print \"***Logistic Regression***\"\n",
    "ParseOutText.test_classifier(vect,logreg)\n",
    "print \"KNN\"\n",
    "ParseOutText.test_classifier(vect,knn)\n",
    "print \"***SVM with RBF kernel***\"\n",
    "ParseOutText.test_classifier(vect,rbf_svm)"
   ]
  },
  {
   "cell_type": "code",
   "execution_count": 19,
   "metadata": {
    "collapsed": true
   },
   "outputs": [],
   "source": [
    "#change the words"
   ]
  },
  {
   "cell_type": "code",
   "execution_count": 20,
   "metadata": {
    "collapsed": false
   },
   "outputs": [
    {
     "name": "stdout",
     "output_type": "stream",
     "text": [
      "***Naive Bayes***\n",
      "Features:  5000\n",
      "Accuracy:  0.8\n",
      "***Linear SVM***\n",
      "Features:  5000\n",
      "Accuracy:  0.872\n",
      "***Logistic Regression***\n",
      "Features:  5000\n",
      "Accuracy:  0.850666666667\n",
      "KNN\n",
      "Features:  5000\n",
      "Accuracy:  0.801333333333\n",
      "***SVM with RBF kernel***\n",
      "Features:  5000\n",
      "Accuracy:  0.884\n"
     ]
    }
   ],
   "source": [
    "vect=CountVectorizer(max_features=5000,ngram_range=(1,3),analyzer=ParseOutText.split_into_lemmas,stop_words='english')\n",
    "print \"***Naive Bayes***\"\n",
    "ParseOutText.test_classifier(vect,clfNB)\n",
    "print \"***Linear SVM***\"\n",
    "ParseOutText.test_classifier(vect,linear_svc)\n",
    "print \"***Logistic Regression***\"\n",
    "ParseOutText.test_classifier(vect,logreg)\n",
    "print \"KNN\"\n",
    "ParseOutText.test_classifier(vect,knn)\n",
    "print \"***SVM with RBF kernel***\"\n",
    "ParseOutText.test_classifier(vect,rbf_svm)    "
   ]
  },
  {
   "cell_type": "markdown",
   "metadata": {
    "collapsed": true
   },
   "source": [
    "# feature extraction"
   ]
  },
  {
   "cell_type": "code",
   "execution_count": 71,
   "metadata": {
    "collapsed": false
   },
   "outputs": [],
   "source": [
    "vect = TfidfVectorizer(max_features=2000,\n",
    "                       analyzer=ParseOutText.split_into_lemmas,\n",
    "                       tokenizer=lambda text: text.split(),\n",
    "                       preprocessor=lambda text: re.sub('[^a-zA-Z]', \" \", text.lower()))"
   ]
  },
  {
   "cell_type": "code",
   "execution_count": 72,
   "metadata": {
    "collapsed": false
   },
   "outputs": [
    {
     "name": "stdout",
     "output_type": "stream",
     "text": [
      "***Naive Bayes***\n",
      "Features:  2000\n",
      "Accuracy:  0.734666666667\n",
      "***Linear SVM***\n",
      "Features:  2000\n",
      "Accuracy:  0.869333333333\n",
      "***Logistic Regression***\n",
      "Features:  2000\n",
      "Accuracy:  0.754666666667\n",
      "KNN\n",
      "Features:  2000\n",
      "Accuracy:  0.72\n",
      "***SVM with RBF kernel***\n",
      "Features:  2000\n",
      "Accuracy:  0.870666666667\n"
     ]
    }
   ],
   "source": [
    "print \"***Naive Bayes***\"\n",
    "ParseOutText.test_classifier(vect,clfNB)\n",
    "print \"***Linear SVM***\"\n",
    "ParseOutText.test_classifier(vect,linear_svc)\n",
    "print \"***Logistic Regression***\"\n",
    "ParseOutText.test_classifier(vect,logreg)\n",
    "print \"KNN\"\n",
    "ParseOutText.test_classifier(vect,knn)\n",
    "print \"***SVM with RBF kernel***\"\n",
    "ParseOutText.test_classifier(vect,rbf_svm)  "
   ]
  },
  {
   "cell_type": "code",
   "execution_count": 77,
   "metadata": {
    "collapsed": false
   },
   "outputs": [],
   "source": [
    "vect=CountVectorizer(max_features=5000,ngram_range=(1,3))\n",
    "transformer = TfidfTransformer()\n",
    "tfidf = transformer.fit_transform(vect.fit_transform(X_train))\n"
   ]
  },
  {
   "cell_type": "code",
   "execution_count": 14,
   "metadata": {
    "collapsed": false
   },
   "outputs": [
    {
     "name": "stdout",
     "output_type": "stream",
     "text": [
      "Features:  40536\n",
      "Accuracy:  0.828\n"
     ]
    }
   ],
   "source": [
    "# include n-grams\n",
    "vect=CountVectorizer(ngram_range=(1,3))\n",
    "tokenize_test(vect)"
   ]
  },
  {
   "cell_type": "code",
   "execution_count": 15,
   "metadata": {
    "collapsed": false
   },
   "outputs": [
    {
     "name": "stdout",
     "output_type": "stream",
     "text": [
      "Features:  5618\n",
      "Accuracy:  0.809333333333\n"
     ]
    }
   ],
   "source": [
    "#remove stop words\n",
    "vect=CountVectorizer(stop_words=\"english\")\n",
    "tokenize_test(vect)"
   ]
  },
  {
   "cell_type": "code",
   "execution_count": 16,
   "metadata": {
    "collapsed": false
   },
   "outputs": [
    {
     "name": "stdout",
     "output_type": "stream",
     "text": [
      "Features:  10000\n",
      "Accuracy:  0.844\n"
     ]
    }
   ],
   "source": [
    "#max features\n",
    "vect=CountVectorizer(max_features=10000,ngram_range=(1,3))\n",
    "tokenize_test(vect)    "
   ]
  },
  {
   "cell_type": "code",
   "execution_count": 17,
   "metadata": {
    "collapsed": false
   },
   "outputs": [
    {
     "name": "stdout",
     "output_type": "stream",
     "text": [
      "Features:  40532\n",
      "Accuracy:  0.838666666667\n"
     ]
    }
   ],
   "source": [
    "#only include terms that appear at least twice\n",
    "vect=CountVectorizer(ngram_range=(1,3),max_df=100*12)\n",
    "tokenize_test(vect)"
   ]
  },
  {
   "cell_type": "code",
   "execution_count": 18,
   "metadata": {
    "collapsed": false
   },
   "outputs": [],
   "source": [
    "from textblob import TextBlob, Word\n",
    "from nltk.stem.snowball import SnowballStemmer\n",
    "%matplotlib inline\n",
    "#initialize stemmer\n",
    "stemmer = SnowballStemmer('english')"
   ]
  },
  {
   "cell_type": "code",
   "execution_count": 19,
   "metadata": {
    "collapsed": false
   },
   "outputs": [],
   "source": [
    "#use svm \n",
    "from sklearn import svm"
   ]
  },
  {
   "cell_type": "code",
   "execution_count": 20,
   "metadata": {
    "collapsed": false
   },
   "outputs": [
    {
     "data": {
      "text/plain": [
       "SVC(C=1.0, cache_size=200, class_weight=None, coef0=0.0,\n",
       "  decision_function_shape=None, degree=3, gamma='auto', kernel='linear',\n",
       "  max_iter=-1, probability=False, random_state=None, shrinking=True,\n",
       "  tol=0.001, verbose=False)"
      ]
     },
     "execution_count": 20,
     "metadata": {},
     "output_type": "execute_result"
    }
   ],
   "source": [
    "linear_svc=svm.SVC(kernel='linear')\n",
    "linear_svc.fit(X_train_dtm,y_train)"
   ]
  },
  {
   "cell_type": "code",
   "execution_count": 21,
   "metadata": {
    "collapsed": true
   },
   "outputs": [],
   "source": [
    "def tokenize_linear_svm_test(vect):\n",
    "    X_train_dtm=vect.fit_transform(X_train)\n",
    "    print \"Features: \",X_train_dtm.shape[1]\n",
    "    X_test_dtm=vect.transform(X_test)\n",
    "    linear_svc=svm.SVC(kernel='linear')\n",
    "    linear_svc.fit(X_train_dtm,y_train)\n",
    "    y_pred_class=linear_svc.predict(X_test_dtm)\n",
    "    print \"Accuracy: \",metrics.accuracy_score(y_test,y_pred_class)\n",
    "    "
   ]
  },
  {
   "cell_type": "code",
   "execution_count": 22,
   "metadata": {
    "collapsed": false
   },
   "outputs": [
    {
     "name": "stdout",
     "output_type": "stream",
     "text": [
      "Features:  10000\n",
      "Accuracy:  0.88\n"
     ]
    }
   ],
   "source": [
    "#max features | SVM with linear kernel\n",
    "vect=CountVectorizer(max_features=10000,ngram_range=(1,3))\n",
    "\n",
    "tokenize_linear_svm_test(vect)  "
   ]
  },
  {
   "cell_type": "code",
   "execution_count": 23,
   "metadata": {
    "collapsed": true
   },
   "outputs": [],
   "source": [
    "def rbf_svm(vect,c):\n",
    "    X_train_dtm=vect.fit_transform(X_train)\n",
    "    print \"Features: \",X_train_dtm.shape[1]\n",
    "    X_test_dtm=vect.transform(X_test)\n",
    "    linear_svm=svm.SVC(kernel='rbf',C=c)\n",
    "    t0 = time()\n",
    "    linear_svm.fit(X_train_dtm,y_train)\n",
    "    print \"training time:\", round(time()-t0, 3), \"s\"\n",
    "\n",
    "    t0 = time()\n",
    "    y_pred_class=linear_svm.predict(X_test_dtm)\n",
    "    print \"predicting time:\", round(time()-t0, 3), \"s\"\n",
    "\n",
    "    #########################################################\n",
    "    from sklearn import metrics\n",
    "    print \"Accuracy: \",metrics.accuracy_score(y_test,y_pred_class)"
   ]
  },
  {
   "cell_type": "code",
   "execution_count": 24,
   "metadata": {
    "collapsed": false
   },
   "outputs": [
    {
     "name": "stdout",
     "output_type": "stream",
     "text": [
      "Features:  10000\n",
      "training time: 0.481 s\n",
      "predicting time: 0.136 s\n",
      "Accuracy:  0.878666666667\n"
     ]
    }
   ],
   "source": [
    "from time import time\n",
    "rbf_svm(vect,100)"
   ]
  },
  {
   "cell_type": "code",
   "execution_count": 25,
   "metadata": {
    "collapsed": false
   },
   "outputs": [
    {
     "name": "stdout",
     "output_type": "stream",
     "text": [
      "Features:  10000\n",
      "training time: 0.439 s\n",
      "predicting time: 0.127 s\n",
      "Accuracy:  0.893333333333\n"
     ]
    }
   ],
   "source": [
    "rbf_svm(vect,1000)"
   ]
  },
  {
   "cell_type": "code",
   "execution_count": 26,
   "metadata": {
    "collapsed": false
   },
   "outputs": [
    {
     "name": "stdout",
     "output_type": "stream",
     "text": [
      "Features:  10000\n",
      "training time: 0.438 s\n",
      "predicting time: 0.13 s\n",
      "Accuracy:  0.893333333333\n"
     ]
    }
   ],
   "source": [
    "rbf_svm(vect,470)"
   ]
  },
  {
   "cell_type": "markdown",
   "metadata": {},
   "source": [
    "# Evaluation before PreProcessing"
   ]
  },
  {
   "cell_type": "code",
   "execution_count": 27,
   "metadata": {
    "collapsed": false
   },
   "outputs": [
    {
     "name": "stdout",
     "output_type": "stream",
     "text": [
      "Features:  10000\n",
      "Accuracy:  0.844\n",
      "Features:  10000\n",
      "confusion matrix for Multinomial Naive Bayes [[388  15   8]\n",
      " [ 33 159  15]\n",
      " [ 33  13  86]]\n",
      "Features:  10000\n",
      "confusion matrix for Linear SVM [[379  20  12]\n",
      " [ 18 177  12]\n",
      " [ 16  12 104]]\n"
     ]
    }
   ],
   "source": [
    "from sklearn import metrics\n",
    "nb = MultinomialNB()\n",
    "vect=CountVectorizer(max_features=10000,ngram_range=(1,3))\n",
    "tokenize_test(vect) \n",
    "def confusion_nb_ROC(vect):\n",
    "    X_train_dtm=vect.fit_transform(X_train)\n",
    "    print \"Features: \",X_train_dtm.shape[1]\n",
    "    X_test_dtm=vect.transform(X_test)\n",
    "    nb=MultinomialNB()\n",
    "    nb.fit(X_train_dtm,y_train)\n",
    "    y_pred_class=nb.predict(X_test_dtm)\n",
    "    y_pred_prob=nb.predict_proba(X_test_dtm)[:,2]\n",
    "    #fpr, tpr, thresholds = metrics.roc_curve(y_test, y_pred_prob)\n",
    "    \n",
    "    print \"confusion matrix for Multinomial Naive Bayes\",metrics.confusion_matrix(y_test, y_pred_class)\n",
    "\n",
    "def confusion_linear_svm_test(vect):\n",
    "    X_train_dtm=vect.fit_transform(X_train)\n",
    "    print \"Features: \",X_train_dtm.shape[1]\n",
    "    X_test_dtm=vect.transform(X_test)\n",
    "    linear_svc=svm.SVC(kernel='linear')\n",
    "    linear_svc.fit(X_train_dtm,y_train)\n",
    "    y_pred_class=linear_svc.predict(X_test_dtm)\n",
    "   \n",
    "    print \"confusion matrix for Linear SVM\", metrics.confusion_matrix(y_test,y_pred_class)\n",
    "     \n",
    "\n",
    "confusion_nb_ROC(vect)  \n",
    "confusion_linear_svm_test(vect)\n",
    "\n",
    "\n",
    "#the linear svm is better at predicting team classes than naive bayes, naive bayes excells at "
   ]
  },
  {
   "cell_type": "markdown",
   "metadata": {},
   "source": [
    "# Clean up the words"
   ]
  },
  {
   "cell_type": "code",
   "execution_count": 2,
   "metadata": {
    "collapsed": false
   },
   "outputs": [],
   "source": [
    "os.chdir(r\"C:\\Users\\Dominique Njinkeu\\Documents\\GitHub\\Projects\\codes\")\n"
   ]
  },
  {
   "cell_type": "code",
   "execution_count": 5,
   "metadata": {
    "collapsed": false
   },
   "outputs": [],
   "source": [
    "from ParseOutText import *"
   ]
  },
  {
   "cell_type": "code",
   "execution_count": 13,
   "metadata": {
    "collapsed": false
   },
   "outputs": [
    {
     "data": {
      "text/plain": [
       "(522                     RT @ABC: Super Bowl viewers to eat 1.3 billion chicken wings, 139+ million pounds of avocado #SB50. https://t.co/Etks5adLwP https://t.co/do…\n",
       " 2000                                                                                                                                   Steph!!! #Warriors #SuperBowl\n",
       " 1643                                                                           RT @ESPNNFL: The Sheriff is out warming up.\\r\\n#SB50 #Broncos https://t.co/3vpHh09x2W\n",
       " 1051                                                                                        Man, time for some rubber removal on that runway https://t.co/KmMmupe0Hq\n",
       " 15                      RT @Xbox: Who'll throw the most passing yds in #SB50? Vote for a chance to win #NFLonXbox #Sweepstakes https://t.co/CRqwlpJxXw https://t.co…\n",
       " 256                                                                                RT @BMS_ThadCastle: RT if Alex Moran is better than Peyton Manning and Cam Newton\n",
       " 424                                                       #KeepPounding! I’m taking the Panthers to win Super Bowl 50. #SBVote @SportsCenter https://t.co/xcLyWmGkuQ\n",
       " 2459    RT @nflnetwork: That guy Von Miller is a bad man...\\r\\n\\r\\nForces the sack fumble &amp; @Broncos score a TD.\\r\\n\\r\\n#Broncos lead, 10-0 in #SB50 https://t.…\n",
       " 1883                      RT @LGMonsterFacts: Lady Gaga is warming up for her #Superbowl performance! 30 minutes to go! #SuperBowlGoesGaga🏈 https://t.co/dmZ9KR1d1c\n",
       " 349                                                                                                                Ready for Superbowl 50 #SuperBowl #NFL  #CARvsDEN\n",
       " 2171                                                                                                                             I BELIEVE THAT WE WILL WIN #Broncos\n",
       " 2211                RT @spotlightmn: On a big stage today...@Panthers &amp; @Broncos. It's like @TheLionKing! #sports #anydreamwilldo #goteam #theTonysofFootball @…\n",
       " 1852                                          RT @tjholmes: Betty White: \"I taught Cam Newton everything he knows.\" She's already stealing the show. Love her. #SB50\n",
       " 1870                                                                                              RT @JP8675: Can't Win If You Dont Play  #EsuranceSweepstakes #SB50\n",
       " 1229                 RT @LanceBass: Watching @Beyonce 's video has me very excited for the half time show today. #SuperBowl \\r\\n#IveGotHotSauceInMyBagSwag https://…\n",
       " 1284                                                      #KeepPounding! I’m taking the Panthers to win Super Bowl 50. #SBVote @SportsCenter https://t.co/ZPd0btas6m\n",
       " 1375                          I only watched one Super Bowl commercial before the game because I couldn't resist the @HeinzKetchup_US dachshunds. Great start! #SB50\n",
       " 514                                                                                                  RT @NFL: The Sheriff has arrived. #SB50 https://t.co/6fcYsMNo8B\n",
       " 1874                                                                                                                          @BlakeRuckman still got the Panthers!!\n",
       " 1853                                                                                                                                   YEET  https://t.co/dCQhr9SzuX\n",
       " 2477                                                                                         @jamthedirtybird Von Miller will not be denied. It's his time. #Broncos\n",
       " 1604                                                      Match of the day 2 or super bowl think I'd rather watch some English football ⚽️👍🏻🇬🇧 #MOTD2 #Superbowl\n",
       " 2895                    RT @khloekardashian: I'm rooting for the panthers but at the same time I want Manning to go out with a win. Either way I'm pigging out and …\n",
       " 1301                                                       Orange Crush! I’m taking the #Broncos to win Super Bowl 50. #SBVote @SportsCenter https://t.co/2GGlTJ4Gjr\n",
       " 2243                                                                  RT @anthglony: Between the Panthers and the Broncos, I'm predicting that Tyga is going to lose\n",
       " 616                     RT @OhioStAthletics: #SB50 Buckeye Bits: @phillybrown10 has at least 1 rec in all 18 gms this season (37 rec, 582 yds, 5 TD) #GoBucks https…\n",
       " 1210                                                                               RT @EmiForLove: Hope you put PANTHERS in the subj line :) https://t.co/Z1Rljebqh2\n",
       " 2391                                   Both of these defenses are in top 3 against the rush and top 10 against the pass. Turnovers will decided the game. #SuperBowl\n",
       " 338                                                                                       RT @LeanandCuisine: Nah I already bought the sauce https://t.co/Myaqo3sqTo\n",
       " 1027                               RT @USNavy: MT @Terraphobic41: #USNavy @BlueAngels maintenance crew getting jets ready for #SB50 flyover! https://t.co/BrvhMxaf0F\n",
       "                                                                                     ...                                                                             \n",
       " 1987                                                                                                  RT @Broncos: It takes all of us. #SB50 https://t.co/5720jzsWOo\n",
       " 2699                                                RT @AllWomenAreDumb: Whoever wins Super Bowl MVP if the Panthers win gonna take her home https://t.co/pHZHRxvst6\n",
       " 1010                                                                               I have a lot of confidence in today's game 😎👌🔷🔶🔷🔶 #Broncos #SuperBowlSunday\n",
       " 2953                                                            RT @omgpocketminer: That one guy at the #SB50 in the stands that sounds like a moose every second 😂\n",
       " 1964                     RT @Panthers: Thank you, #PantherNation, for everything.\\r\\n\\r\\nToday we roar together. \\r\\n\\r\\n#SB50 #KeepPounding https://t.co/ynGGtDnfDc\n",
       " 2627                                                                                                   The Romans had Gladiators. Americans have footballers🏈 #SB50\n",
       " 1234                                                       Orange Crush! I’m taking the #Broncos to win Super Bowl 50. #SBVote @SportsCenter https://t.co/2x1M43Rr3v\n",
       " 1336                                                                      Long flight... RT @vegastbone: @sportsbooktom very few panthers jerseys in the sportsbooks\n",
       " 1105                                                                                                                                @KurtBusch @Panthers 39-10 cats!\n",
       " 2909                   RT @DHALL_SOB: DAB ON EM!🤑 @TheLeaCrigger @jkcrosbie02 #SuperBowl #SuperBowlSunday #PepsiHalftime #SB50  #CamNewton #DAB https://t.co/oRIzY…\n",
       " 21                                              RT @esurance: RT during the big game for your shot at a big gain. #EsuranceSweepstakes #SB50 https://t.co/Nm8UJicH6b\n",
       " 634                                                                                                            RT @TigerWoods: Peyton and the Broncos all day! #SB50\n",
       " 2806                                                                                                                @esurance #EsuranceSweepstakes #SB50  hope I win\n",
       " 1742                                                                                                         I would love to have this ball. https://t.co/ADZ6cey4j1\n",
       " 236                                                                                                           Go Peyton. Fuck that nigga Cam https://t.co/E4KMlwiFhF\n",
       " 1794                   RT @TmarTn: Although I'm a Vikes fan, I do have a Peyton Manning signed helmet for donating in a charity auction 👍🏼 https://t.co/6VEtADfJuo\n",
       " 1893                                                                                          Jonnyboyyy 😍😍 #SB50 #PepsiHalftime #Coldplay https://t.co/daANsmypDA\n",
       " 2549                                                               On average there is only 11minutes of playtime during a 3h12m football game. #SuperBowl #football\n",
       " 2273                                                                                                     RT @VictorDukes23: No one cares lol https://t.co/8OOjSNL4fr\n",
       " 854                                                  RT @PRIMO_LAKER69: #Broncos might be in the #SuperBowl but don't forget the #Raiders... https://t.co/lkeET4JYXm\n",
       " 2776                        Did you miss Episode 8 of #KidsDeserveit with @hopekingteach? You can watch now HERE https://t.co/nekjAhBK6s #SuperBowl #SuperBowlSunday\n",
       " 1589                      The Best Foods for Fueling Your Kids’ Minds &amp; Bodies #SundaySmartFood #SuperBowlSunday https://t.co/PB9DaLJ3Uv https://t.co/2oL6gTPb6g\n",
       " 1836                                                                                                @frostedevents Stellar set-up! Can't be beat. #SB50 #AvosInSpace\n",
       " 851                                                                                     RT @tree_bro: Why Can't I Find Out Anything About This Superb Owl #superbowl\n",
       " 1524                                                                                                                       @TheSharkDaymond Panthers and commercials\n",
       " 2487                                                           RT @EW: Lady Gaga nails the national anthem at #SB50: https://t.co/7VDuYJxYjZ https://t.co/zJMwf1PR7h\n",
       " 1179                    RT @buffalobills: They went to four Super Bowls together. Now Jim Kelly gets to watch Bruce DeHaven in #SB50. Awesome pregame moment. https…\n",
       " 1121                                                                                     RT @Academy: Ready, #PanthersNation?! Go @Panthers! https://t.co/ZA4gpstpjj\n",
       " 1886                                                                                           Broncos finna win💯🙌🏽 #SuperBowl50 #Broncos https://t.co/0cqSZNpDVz\n",
       " 2292                                                                        This is gonna end well #sb50 @panthers #keeppounding #jelloshots https://t.co/rYNZpRTqWS\n",
       " Name: text, dtype: object,\n",
       " 2744                                                             CROWD-VIEW video of Lady Gaga's #SuperBowl performance. 🇺🇸 #SB50 https://t.co/i6tMysTKPD\n",
       " 843            RT @WFMY: #PanthersPoundingOn2 RT @LizCrawfordWFMY: The Gibson family from Winston-Salem here for #SB50 @DTGibson24 @WFMY https://t.co/ZZJQ…\n",
       " 1544                                              Orange Crush! I’m taking the #Broncos to win Super Bowl 50. #SBVote @SportsCenter https://t.co/ZAQdaj98at\n",
       " 2686                                                                                                                   Panthers!!!! https://t.co/6fQ7O1I7Ay\n",
       " 2036                                                         RT @NFL: .@StephenCurry30 + #KeepPounding  \\r\\n\\r\\nLet's goooooo #SB50 https://t.co/Im3tbM9qwC\n",
       " 588            RT @P0TUS: America: Sit on couches, stuff your faces with junk and beer, and show the world why WE'RE THE GREATEST COUNTRY ON EARTH. #Super…\n",
       " 1938                                                                           Can't believe they're forcing all of these MVPs play in this game #SuperBowl\n",
       " 1761                                                                                                                         Cam Newton Cleats tuff ashit🔥\n",
       " 26      RT @frontpagestocks: $TXHD #superbowlsunday #winning #stock #wins Monday also #super #company #running like a #Panther &amp; #Bronco #RT\\r\\nhttps:…\n",
       " 1461           RT @SportsCenter: Cam Newton's response to critics has been the same since he entered the NFL. https://t.co/baekchvaNW https://t.co/RRzbW1P…\n",
       " 2107                                                          RT @DammmnCam: Why Lady Gaga dressed like a Christmas ornament. #SB50 https://t.co/Ni1KppQr6x\n",
       " 1402             RT @instagram: On the road to the #superbowl with the Carolina Panthers’ team photographer https://t.co/6L2GDzvRs2 https://t.co/EZ7RXr8W4m\n",
       " 2469                                                                                                         RT @DeluxeTwenty: Cam is not an elite QB #SB50\n",
       " 2383       RT @micnews: Rules for #SB50🏉  commercials:\\r\\n\\r\\n1) Hashtag good ads with #MediaWeLike\\r\\n\\r\\n2) Hashtag sexist advertising with #NotBuyingIt\n",
       " 152            RT @nature_org: We just can't resist reviving #SuperbOwlSunday, made popular by @StephenAtHome. Now here's a superb owl... https://t.co/fUS…\n",
       " 1805                                             #KeepPounding! I’m taking the Panthers to win Super Bowl 50. #SBVote @SportsCenter https://t.co/G4FwUKb75S\n",
       " 1990                                                                                               Nervous.  Excited.  Anxious.  Happy.  Go Broncos!  #sb50\n",
       " 1271                                                                       I think the @Broncos will win #SB50! #SBFanVote #Broncos https://t.co/4yY24mQ3ZX\n",
       " 1320                                                                 Almost game time who y'all got #Panthers or #Broncos? 🏈🏆🏆 I gotta go with Cam Cam!!\n",
       " 1154                                       RT @RoosterTeeth: Do we need to have watched #SuperBowl 1–49 to understand the plot of #SuperBowl50? #Sportsball\n",
       " 2494           RT @jhoffman: RT @NFL A new tradition begins ths #SuperBowl. At coin toss each team captain to state \"We who are about to slowly die of CTE…\n",
       " 2809                                                                                                         Panthers just got a penta kill? Wow, Graves op\n",
       " 1527        RT @SimpsonsQOTD: \"It's not the Dallas Cowboys but it's a start...drop me a line, Hank Scorpio.\"\\r\\n\"AWH, THE DENVER BRONCOS?!\" https://t.co/m…\n",
       " 1521                                                                               the \"hype\" for this super bowl got me like #SB50 https://t.co/V3B1f8nq8f\n",
       " 671                                                                               RT @T1ffany_Ann: Good luck EVERYONE in the #EsuranceSweepstakes #SB50 711\n",
       " 1413                                                                               Im not bandwagoning, but im pulling for the broncos tonight #superbowl50\n",
       " 1922                                                                                                   go go Panthers! 🐱#SuperBowl #SuperBowlSunday  #SB50\n",
       " 1561        RT @WillHillBet: .@BeatingTheBook thinks one man is a certainty to carry it into the endzone. Do you agree? #KeepPounding #SuperBowl\\r\\nhttps:…\n",
       " 1053                                                                             RT @NFLonCBS: Tom Brady is in the house for #SB50. https://t.co/H5bWSzYLS2\n",
       " 1960                                                         RT @VicBergerIV: A WARNING to America from Jim Bakker. #SuperBowl @NFL https://t.co/sNPPMiXyFk\n",
       "                                                                                ...                                                                         \n",
       " 2851                                                                                                                              Another flag roflll #SB50\n",
       " 64                            RT @tastefactory: I'd be more excited for the super bowl if they let actual panthers and horses on the field to fight it out.\n",
       " 427      RT @vinnycrack: chickens have 2 wings \\r\\n300 million x 2 = 600 million\\r\\nI'm about to each 100 wings today cause you a lying ass bitch https://…\n",
       " 1147                                                                                                                          CAM NEWTON IS MY FIRST COUSIN\n",
       " 2863                                                                    You gotta have that ambition to earn the Super bowl... The Broncos came to play son\n",
       " 1829                                                 RT @RiverboatRonHC: OMG, this video gave me chills!  #KeepPounding #GoPanthers https://t.co/ag2oBo7VJY\n",
       " 895            RT @MisterBroRo: With SUCH a big audience, it's safe to say that tonight's performance is gonna change Lady Gaga's career once and for all.…\n",
       " 347                                                                                      RT @bellecali_xo: #EsuranceSweepstakes #SB50 Is it snack time yet?\n",
       " 1563                                                                                                                         Look!! https://t.co/HGfDZov0D6\n",
       " 1359            @SkyBet Cam Newton anytime TD, MVP and to do the dab, Panthers to win, Manning to be intercepted and Von Miller over 0.5 sacks #RequestABet\n",
       " 1170                                                                           Cam Newton doesn't disappoint with Super Bowl outfit https://t.co/9eQNFnviBY\n",
       " 500                                                                                      RT @Ksvolcano: Opt in For  #SB50  Offered by  #EsuranceSweepstakes\n",
       " 2095                                                                                                                    Lad Gaga just killed it. #SuperBowl\n",
       " 2967                                                                            RT @SportsVine365: The Panthers right now 😂. #SB50 https://t.co/Jw7bAoHkdk\n",
       " 2316                                                                    I can see who unfollows too! There's an app for that 😈. #EsuranceSweepstakes #SB50\n",
       " 1881                                              Orange Crush! I’m taking the #Broncos to win Super Bowl 50. #SBVote @SportsCenter https://t.co/Eu5Ic7UBu6\n",
       " 1663                                                                     RT @Follow24Hodge: Oh, btw... #KeepPounding! \\r\\nCameron Newton lets GO! @Panthers\n",
       " 1445                                            RT @NBALowdown: Who y'all got tonight???\\r\\nRT: Panthers \\r\\nFAV: Broncos \\r\\n#SB50 https://t.co/lWv9nqfKbM\n",
       " 2182                                                                                                   I'm not a panthers or Broncos fan so idc who wins 🤔\n",
       " 1889           RT @MartianMovie: No matter who wins, we know everyone will be footballing the sh*t out of it this #SuperBowlSunday. #TheMartian https://t.…\n",
       " 1795                                                                      Super Bowl 50: Carolina Panthers v Denver Broncos – live! https://t.co/kc7HQovxrj\n",
       " 2772           RT @PCRicardo: My cousin and UW-Oshkosh grad, Rene Delgado, is the idea man behind this Esurance ad campaign #EsuranceSweepstakes  https://…\n",
       " 1123                                                                                                    Anybody else goin for the Broncos tryna lose a bet?\n",
       " 964                                                                                                           RT @jigga_tre: I got 20 on the panthers... 👀\n",
       " 1551                                            We are ready 24/7 :))\\r\\n#SB50 #ranNFL #ickerules #jedenverdammtensonntag @ransport https://t.co/rcg40BU2wA\n",
       " 199                                                                                                                           the Broncos better lose today\n",
       " 1084           RT @overdramatique: BEYONCE IS GOING TO PERFORM FORMATION TOMORROW AT THE SUPERBOWL. THE PANTHERS ARE GOING TO WIN TOMORROW. HAPPY BLACK HI…\n",
       " 699            RT @_MikeSinatra: RT @peta: Over 300 million chickens were killed for the 1.3 billion wings going to be eaten this #SuperBowlSunday. https:…\n",
       " 1166                                  RT @p0pson: Cam newton winning the super bowl gone cause more pain to the evil white heart than Obama's inauguration.\n",
       " 1866                                                                                    RT @Mommybay12: Good Luck Everyone!!! #EsuranceSweepstakes #SB50 13\n",
       " Name: text, dtype: object,\n",
       " 522     0\n",
       " 2000    1\n",
       " 1643    0\n",
       " 1051    0\n",
       " 15      0\n",
       " 256     0\n",
       " 424     1\n",
       " 2459    2\n",
       " 1883    0\n",
       " 349     0\n",
       " 2171    2\n",
       " 2211    0\n",
       " 1852    0\n",
       " 1870    0\n",
       " 1229    0\n",
       " 1284    1\n",
       " 1375    0\n",
       " 514     0\n",
       " 1874    1\n",
       " 1853    0\n",
       " 2477    2\n",
       " 1604    0\n",
       " 2895    1\n",
       " 1301    2\n",
       " 2243    0\n",
       " 616     0\n",
       " 1210    1\n",
       " 2391    0\n",
       " 338     0\n",
       " 1027    0\n",
       "        ..\n",
       " 1987    2\n",
       " 2699    1\n",
       " 1010    2\n",
       " 2953    0\n",
       " 1964    1\n",
       " 2627    0\n",
       " 1234    2\n",
       " 1336    0\n",
       " 1105    1\n",
       " 2909    1\n",
       " 21      0\n",
       " 634     2\n",
       " 2806    0\n",
       " 1742    0\n",
       " 236     2\n",
       " 1794    2\n",
       " 1893    0\n",
       " 2549    0\n",
       " 2273    0\n",
       " 854     2\n",
       " 2776    0\n",
       " 1589    0\n",
       " 1836    0\n",
       " 851     0\n",
       " 1524    1\n",
       " 2487    0\n",
       " 1179    0\n",
       " 1121    1\n",
       " 1886    2\n",
       " 2292    1\n",
       " Name: Label, dtype: int64,\n",
       " 2744    0\n",
       " 843     1\n",
       " 1544    2\n",
       " 2686    1\n",
       " 2036    1\n",
       " 588     0\n",
       " 1938    0\n",
       " 1761    1\n",
       " 26      0\n",
       " 1461    1\n",
       " 2107    0\n",
       " 1402    1\n",
       " 2469    2\n",
       " 2383    0\n",
       " 152     0\n",
       " 1805    1\n",
       " 1990    2\n",
       " 1271    2\n",
       " 1320    1\n",
       " 1154    0\n",
       " 2494    0\n",
       " 2809    1\n",
       " 1527    0\n",
       " 1521    0\n",
       " 671     0\n",
       " 1413    2\n",
       " 1922    1\n",
       " 1561    1\n",
       " 1053    0\n",
       " 1960    0\n",
       "        ..\n",
       " 2851    0\n",
       " 64      0\n",
       " 427     0\n",
       " 1147    1\n",
       " 2863    2\n",
       " 1829    1\n",
       " 895     0\n",
       " 347     0\n",
       " 1563    0\n",
       " 1359    1\n",
       " 1170    1\n",
       " 500     0\n",
       " 2095    0\n",
       " 2967    1\n",
       " 2316    0\n",
       " 1881    2\n",
       " 1663    1\n",
       " 1445    0\n",
       " 2182    0\n",
       " 1889    0\n",
       " 1795    0\n",
       " 2772    0\n",
       " 1123    1\n",
       " 964     1\n",
       " 1551    0\n",
       " 199     1\n",
       " 1084    1\n",
       " 699     0\n",
       " 1166    1\n",
       " 1866    0\n",
       " Name: Label, dtype: int64)"
      ]
     },
     "execution_count": 13,
     "metadata": {},
     "output_type": "execute_result"
    }
   ],
   "source": [
    "ParseOutText.split_train_test(X,y)"
   ]
  },
  {
   "cell_type": "code",
   "execution_count": 17,
   "metadata": {
    "collapsed": false
   },
   "outputs": [
    {
     "data": {
      "text/plain": [
       "(750L,)"
      ]
     },
     "execution_count": 17,
     "metadata": {},
     "output_type": "execute_result"
    }
   ],
   "source": []
  },
  {
   "cell_type": "code",
   "execution_count": null,
   "metadata": {
    "collapsed": true
   },
   "outputs": [],
   "source": []
  }
 ],
 "metadata": {
  "kernelspec": {
   "display_name": "Python 2",
   "language": "python",
   "name": "python2"
  },
  "language_info": {
   "codemirror_mode": {
    "name": "ipython",
    "version": 2
   },
   "file_extension": ".py",
   "mimetype": "text/x-python",
   "name": "python",
   "nbconvert_exporter": "python",
   "pygments_lexer": "ipython2",
   "version": "2.7.10"
  }
 },
 "nbformat": 4,
 "nbformat_minor": 0
}
