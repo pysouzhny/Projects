{
 "cells": [
  {
   "cell_type": "code",
   "execution_count": 1,
   "metadata": {
    "collapsed": true
   },
   "outputs": [],
   "source": [
    "from __future__ import division # ensure that all division is float division\n",
    "from sklearn.feature_extraction.text import CountVectorizer, TfidfVectorizer\n",
    "%matplotlib inline\n",
    "import matplotlib.pyplot as plt\n",
    "from sklearn.feature_extraction.text import TfidfTransformer\n",
    "from sklearn import metrics\n",
    "#import all the necessary modules\n",
    "import os, sys, re\n",
    "import numpy as np\n",
    "import pandas as pd\n",
    "import seaborn as sns\n",
    "sns.set()\n",
    "sns.set_style(\"whitegrid\")"
   ]
  },
  {
   "cell_type": "markdown",
   "metadata": {},
   "source": [
    "# Load Dataset"
   ]
  },
  {
   "cell_type": "code",
   "execution_count": 2,
   "metadata": {
    "collapsed": false
   },
   "outputs": [
    {
     "data": {
      "text/plain": [
       "Neutral     1644\n",
       "Panthers     827\n",
       "Broncos      529\n",
       "Name: Support, dtype: int64"
      ]
     },
     "execution_count": 2,
     "metadata": {},
     "output_type": "execute_result"
    }
   ],
   "source": [
    "os.chdir(r\"C:\\Users\\Dominique Njinkeu\\Documents\\GitHub\\Projects\\notebook\")\n",
    "df=pd.read_csv(\"tweets_sample.csv\")\n",
    "df.Support.value_counts()"
   ]
  },
  {
   "cell_type": "code",
   "execution_count": 3,
   "metadata": {
    "collapsed": true
   },
   "outputs": [],
   "source": [
    "# map the label values for scikit-learn\n",
    "df[\"Label\"]=df.Support.map({\"Neutral\":0,\"Panthers\":1,\"Broncos\":2})\n",
    "#determine feature and label variables\n",
    "X=df.text\n",
    "y=df.Label"
   ]
  },
  {
   "cell_type": "markdown",
   "metadata": {},
   "source": [
    "# Train/Test split"
   ]
  },
  {
   "cell_type": "code",
   "execution_count": 4,
   "metadata": {
    "collapsed": true
   },
   "outputs": [],
   "source": [
    "#perform train/test split with startify option to keep the proportion of teams the same for test and train variable\n",
    "from sklearn.cross_validation import train_test_split\n",
    "X_train, X_test, y_train, y_test = train_test_split(X, y, random_state=2,stratify=y)"
   ]
  },
  {
   "cell_type": "code",
   "execution_count": 5,
   "metadata": {
    "collapsed": false
   },
   "outputs": [],
   "source": [
    "os.chdir(r\"C:\\Users\\Dominique Njinkeu\\Documents\\GitHub\\Projects\\codes\")\n",
    "import ParseOutText"
   ]
  },
  {
   "cell_type": "markdown",
   "metadata": {},
   "source": [
    "# Classifiers"
   ]
  },
  {
   "cell_type": "code",
   "execution_count": 6,
   "metadata": {
    "collapsed": true
   },
   "outputs": [],
   "source": [
    "#multinomialNB classifier\n",
    "from sklearn.naive_bayes import MultinomialNB\n",
    "clfNB=MultinomialNB()\n",
    "#knn classifier\n",
    "from sklearn.neighbors import KNeighborsClassifier\n",
    "knn = KNeighborsClassifier(n_neighbors=15)\n",
    "#linear SVM\n",
    "from sklearn import svm\n",
    "linear_svc=svm.SVC(kernel='linear')\n",
    "#RBF SVM\n",
    "rbf_svm=svm.SVC(kernel='rbf',C=470)\n",
    "#Logistic Regression\n",
    "from sklearn import linear_model\n",
    "logreg = linear_model.LogisticRegression(C=1e5)"
   ]
  },
  {
   "cell_type": "markdown",
   "metadata": {},
   "source": [
    "# Naive Bayes: find the optimal parameters and number of features\n"
   ]
  },
  {
   "cell_type": "code",
   "execution_count": 7,
   "metadata": {
    "collapsed": false
   },
   "outputs": [
    {
     "name": "stdout",
     "output_type": "stream",
     "text": [
      "Features:  5827\n"
     ]
    }
   ],
   "source": [
    "vect=CountVectorizer()\n",
    "X_train_dtm=vect.fit_transform(X_train)\n",
    "print \"Features: \",X_train_dtm.shape[1]"
   ]
  },
  {
   "cell_type": "code",
   "execution_count": 9,
   "metadata": {
    "collapsed": false
   },
   "outputs": [
    {
     "name": "stdout",
     "output_type": "stream",
     "text": [
      "maximum attainable score and features:  [[0.84399999999999997, 1106]]\n"
     ]
    },
    {
     "data": {
      "text/plain": [
       "[[0.84399999999999997, 1106]]"
      ]
     },
     "execution_count": 9,
     "metadata": {},
     "output_type": "execute_result"
    }
   ],
   "source": [
    "ParseOutText.find_best_nb_of_features(\"vect\",5827,clfNB)"
   ]
  },
  {
   "cell_type": "code",
   "execution_count": null,
   "metadata": {
    "collapsed": true
   },
   "outputs": [],
   "source": [
    "#for substanstial reduction of features we use the tdidf features\n",
    "ParseOutText.find_best_nb_of_features(\"tfidf\",2000,clfNB)"
   ]
  },
  {
   "cell_type": "code",
   "execution_count": 8,
   "metadata": {
    "collapsed": false
   },
   "outputs": [
    {
     "name": "stdout",
     "output_type": "stream",
     "text": [
      "with no bi-gram and stopwords\n",
      "Features:  5827\n",
      "Accuracy:  0.801333333333\n",
      "with the addition of Bi-gram\n",
      "Features:  17561\n",
      "Accuracy:  0.834666666667\n",
      "with the removal of stopwords\n",
      "Features:  1106\n",
      "Accuracy:  0.844\n"
     ]
    }
   ],
   "source": [
    "#Naive Bayes: find the optimal number of feature vectors\n",
    "vect=CountVectorizer()\n",
    "print \"with no bi-gram and stopwords\"\n",
    "ParseOutText.test_classifier(vect,clfNB)\n",
    "print \"with the addition of Bi-gram\"\n",
    "vect=CountVectorizer(ngram_range=(1,2),stop_words='english')\n",
    "ParseOutText.test_classifier(vect,clfNB)\n",
    "print \"with the removal of stopwords\"\n",
    "vect=CountVectorizer(max_features=1106,ngram_range=(1,2),stop_words='english')\n",
    "ParseOutText.test_classifier(vect,clfNB)\n"
   ]
  },
  {
   "cell_type": "code",
   "execution_count": 15,
   "metadata": {
    "collapsed": false
   },
   "outputs": [
    {
     "name": "stdout",
     "output_type": "stream",
     "text": [
      "Features:  21\n",
      "Accuracy:  0.824\n"
     ]
    }
   ],
   "source": [
    "#tfidf vectorizer\n",
    "tfidf=TfidfVectorizer(max_features=21,ngram_range=(1,3),stop_words='english')\n",
    "ParseOutText.test_classifier(tfidf,clfNB)"
   ]
  },
  {
   "cell_type": "markdown",
   "metadata": {},
   "source": [
    "# Linear SVM: find the optimal parameters and number of features"
   ]
  },
  {
   "cell_type": "code",
   "execution_count": 25,
   "metadata": {
    "collapsed": false
   },
   "outputs": [
    {
     "name": "stdout",
     "output_type": "stream",
     "text": [
      "with no bi-gram and stopwords\n",
      "Features:  5827\n",
      "Accuracy:  0.881333333333\n",
      "with the addition of Bi-gram\n",
      "Features:  17561\n",
      "Accuracy:  0.888\n",
      "with the removal of stopwords\n",
      "Features:  900\n",
      "Accuracy:  0.886666666667\n"
     ]
    }
   ],
   "source": [
    "vect=CountVectorizer()\n",
    "print \"with no bi-gram and stopwords\"\n",
    "ParseOutText.test_classifier(vect,linear_svc)\n",
    "print \"with the addition of Bi-gram\"\n",
    "vect=CountVectorizer(ngram_range=(1,2),stop_words='english')\n",
    "ParseOutText.test_classifier(vect,linear_svc)\n",
    "print \"with the removal of stopwords\"\n",
    "vect=CountVectorizer(max_features=900,ngram_range=(1,2),stop_words='english')\n",
    "ParseOutText.test_classifier(vect,linear_svc)"
   ]
  },
  {
   "cell_type": "code",
   "execution_count": 26,
   "metadata": {
    "collapsed": false
   },
   "outputs": [
    {
     "name": "stdout",
     "output_type": "stream",
     "text": [
      "maximum attainable score and features:  [[0.89866666666666661, 768]]\n"
     ]
    },
    {
     "data": {
      "text/plain": [
       "[[0.89866666666666661, 768]]"
      ]
     },
     "execution_count": 26,
     "metadata": {},
     "output_type": "execute_result"
    }
   ],
   "source": [
    "ParseOutText.find_best_nb_of_features(\"vect\",800,linear_svc)"
   ]
  },
  {
   "cell_type": "code",
   "execution_count": 27,
   "metadata": {
    "collapsed": false
   },
   "outputs": [
    {
     "name": "stdout",
     "output_type": "stream",
     "text": [
      "maximum attainable score and features:  [[0.89200000000000002, 591]]\n"
     ]
    },
    {
     "data": {
      "text/plain": [
       "[[0.89200000000000002, 591]]"
      ]
     },
     "execution_count": 27,
     "metadata": {},
     "output_type": "execute_result"
    }
   ],
   "source": [
    "ParseOutText.find_best_nb_of_features(\"tfidf\",800,linear_svc)"
   ]
  },
  {
   "cell_type": "code",
   "execution_count": 28,
   "metadata": {
    "collapsed": false
   },
   "outputs": [
    {
     "name": "stdout",
     "output_type": "stream",
     "text": [
      "Features:  768\n",
      "Accuracy:  0.898666666667\n"
     ]
    }
   ],
   "source": [
    "vect=CountVectorizer(max_features=768,ngram_range=(1,2),stop_words='english')\n",
    "ParseOutText.test_classifier(vect,linear_svc)"
   ]
  },
  {
   "cell_type": "code",
   "execution_count": 30,
   "metadata": {
    "collapsed": false
   },
   "outputs": [
    {
     "name": "stdout",
     "output_type": "stream",
     "text": [
      "Features:  591\n",
      "Accuracy:  0.892\n"
     ]
    }
   ],
   "source": [
    "tfidf_SVM=TfidfVectorizer(max_features=591,ngram_range=(1,3),stop_words='english')\n",
    "ParseOutText.test_classifier(tfidf,linear_svc)"
   ]
  },
  {
   "cell_type": "markdown",
   "metadata": {},
   "source": [
    "# Logistic regression: find the optimal parameters and number of features"
   ]
  },
  {
   "cell_type": "code",
   "execution_count": 38,
   "metadata": {
    "collapsed": false
   },
   "outputs": [
    {
     "name": "stdout",
     "output_type": "stream",
     "text": [
      "with no bi-gram and stopwords\n",
      "Features:  5827\n",
      "Accuracy:  0.872\n",
      "with the addition of Bi-gram\n",
      "Features:  29920\n",
      "Accuracy:  0.884\n",
      "with the removal of stopwords\n",
      "Features:  900\n",
      "Accuracy:  0.801333333333\n"
     ]
    }
   ],
   "source": [
    "vect=CountVectorizer()\n",
    "print \"with no bi-gram and stopwords\"\n",
    "ParseOutText.test_classifier(vect,logreg)\n",
    "print \"with the addition of Bi-gram\"\n",
    "vect=CountVectorizer(ngram_range=(1,2),stop_words='english')\n",
    "ParseOutText.test_classifier(vect,logreg)\n",
    "print \"with the removal of stopwords\"\n",
    "vect=CountVectorizer(max_features=900,ngram_range=(1,2),stop_words='english')\n",
    "ParseOutText.test_classifier(vect,logreg)"
   ]
  },
  {
   "cell_type": "code",
   "execution_count": 39,
   "metadata": {
    "collapsed": false
   },
   "outputs": [
    {
     "name": "stdout",
     "output_type": "stream",
     "text": [
      "maximum attainable score and features:  [[0.88400000000000001, 4742]]\n"
     ]
    },
    {
     "data": {
      "text/plain": [
       "[[0.88400000000000001, 4742]]"
      ]
     },
     "execution_count": 39,
     "metadata": {},
     "output_type": "execute_result"
    }
   ],
   "source": [
    "ParseOutText.find_best_nb_of_features(\"vect\",5827,logreg)"
   ]
  },
  {
   "cell_type": "code",
   "execution_count": 42,
   "metadata": {
    "collapsed": false
   },
   "outputs": [
    {
     "name": "stdout",
     "output_type": "stream",
     "text": [
      "Features:  4742\n",
      "Accuracy:  0.884\n"
     ]
    }
   ],
   "source": [
    "vect=CountVectorizer(ngram_range=(1,2),stop_words='english',max_features=4742)\n",
    "ParseOutText.test_classifier(vect,logreg)"
   ]
  },
  {
   "cell_type": "code",
   "execution_count": 55,
   "metadata": {
    "collapsed": false
   },
   "outputs": [
    {
     "name": "stdout",
     "output_type": "stream",
     "text": [
      "maximum attainable score and features:  [[0.8746666666666667, 5539]]\n"
     ]
    },
    {
     "data": {
      "text/plain": [
       "[[0.8746666666666667, 5539]]"
      ]
     },
     "execution_count": 55,
     "metadata": {},
     "output_type": "execute_result"
    }
   ],
   "source": [
    "ParseOutText.find_best_nb_of_features(\"tfidf\",5827,logreg)"
   ]
  },
  {
   "cell_type": "code",
   "execution_count": 62,
   "metadata": {
    "collapsed": false
   },
   "outputs": [
    {
     "name": "stdout",
     "output_type": "stream",
     "text": [
      "Features:  5539\n",
      "Accuracy:  0.874666666667\n"
     ]
    }
   ],
   "source": [
    "tfidf=TfidfVectorizer(max_features=5539,ngram_range=(1,3),stop_words='english')\n",
    "ParseOutText.test_classifier(tfidf,logreg)"
   ]
  },
  {
   "cell_type": "markdown",
   "metadata": {},
   "source": [
    "# knn: find the optimal parameters and number of features"
   ]
  },
  {
   "cell_type": "code",
   "execution_count": 72,
   "metadata": {
    "collapsed": false
   },
   "outputs": [
    {
     "name": "stdout",
     "output_type": "stream",
     "text": [
      "maximum attainable score and features:  [[0.85199999999999998, 5730]]\n"
     ]
    },
    {
     "data": {
      "text/plain": [
       "[[0.85199999999999998, 5730]]"
      ]
     },
     "execution_count": 72,
     "metadata": {},
     "output_type": "execute_result"
    }
   ],
   "source": [
    "knn = KNeighborsClassifier(n_neighbors=15)\n",
    "ParseOutText.find_best_nb_of_features(\"vect\",5827,knn)"
   ]
  },
  {
   "cell_type": "code",
   "execution_count": 75,
   "metadata": {
    "collapsed": false
   },
   "outputs": [
    {
     "name": "stdout",
     "output_type": "stream",
     "text": [
      "maximum attainable score and features:  [[0.85333333333333339, 21]]\n"
     ]
    },
    {
     "data": {
      "text/plain": [
       "[[0.85333333333333339, 21]]"
      ]
     },
     "execution_count": 75,
     "metadata": {},
     "output_type": "execute_result"
    }
   ],
   "source": [
    "ParseOutText.find_best_nb_of_features(\"tfidf\",5827,knn)"
   ]
  },
  {
   "cell_type": "code",
   "execution_count": 81,
   "metadata": {
    "collapsed": false
   },
   "outputs": [
    {
     "name": "stdout",
     "output_type": "stream",
     "text": [
      "Features:  21\n",
      "Accuracy:  0.84\n"
     ]
    }
   ],
   "source": [
    "tfidf=TfidfVectorizer(max_features=150,ngram_range=(1,3),stop_words='english')\n",
    "ParseOutText.test_classifier(tfidf,logreg)"
   ]
  },
  {
   "cell_type": "code",
   "execution_count": 82,
   "metadata": {
    "collapsed": true
   },
   "outputs": [],
   "source": [
    "vect_NB=CountVectorizer(max_features=1106,ngram_range=(1,2),stop_words='english')\n",
    "tfidf_NB=TfidfVectorizer(max_features=21,ngram_range=(1,3),stop_words='english')\n",
    "vect_SVM=CountVectorizer(max_features=768,ngram_range=(1,2),stop_words='english')\n",
    "tfidf_SVM=TfidfVectorizer(max_features=591,ngram_range=(1,3),stop_words='english')\n",
    "vect_logreg=CountVectorizer(ngram_range=(1,2),stop_words='english',max_features=4742)\n",
    "tfidf_logreg=TfidfVectorizer(max_features=5539,ngram_range=(1,3),stop_words='english')\n",
    "tfidf_knn=TfidfVectorizer(max_features=150,ngram_range=(1,3),stop_words='english')"
   ]
  },
  {
   "cell_type": "code",
   "execution_count": 130,
   "metadata": {
    "collapsed": false
   },
   "outputs": [],
   "source": [
    "vect_SVM=CountVectorizer(max_features=1000,ngram_range=(1,2),stop_words='english',\n",
    "                         analyzer=ParseOutText.split_into_lemmas\n",
    "            )\n"
   ]
  },
  {
   "cell_type": "code",
   "execution_count": 131,
   "metadata": {
    "collapsed": false
   },
   "outputs": [
    {
     "name": "stdout",
     "output_type": "stream",
     "text": [
      "Features:  1000\n",
      "Accuracy:  0.852\n"
     ]
    }
   ],
   "source": [
    "ParseOutText.test_classifier(vect_SVM,linear_svc)"
   ]
  },
  {
   "cell_type": "code",
   "execution_count": null,
   "metadata": {
    "collapsed": true
   },
   "outputs": [],
   "source": []
  }
 ],
 "metadata": {
  "kernelspec": {
   "display_name": "Python 2",
   "language": "python",
   "name": "python2"
  },
  "language_info": {
   "codemirror_mode": {
    "name": "ipython",
    "version": 2
   },
   "file_extension": ".py",
   "mimetype": "text/x-python",
   "name": "python",
   "nbconvert_exporter": "python",
   "pygments_lexer": "ipython2",
   "version": "2.7.10"
  }
 },
 "nbformat": 4,
 "nbformat_minor": 0
}
